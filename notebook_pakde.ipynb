{
 "nbformat": 4,
 "nbformat_minor": 0,
 "metadata": {
  "colab": {
   "provenance": [],
   "collapsed_sections": [
    "S5nfV5mrcivk"
   ],
   "authorship_tag": "ABX9TyOlFi3kYvUQtjoQbGQT21Rb"
  },
  "kernelspec": {
   "name": "python3",
   "display_name": "Python 3"
  },
  "language_info": {
   "name": "python"
  }
 },
 "cells": [
  {
   "cell_type": "markdown",
   "source": [
    "## Install Module"
   ],
   "metadata": {
    "id": "S5nfV5mrcivk"
   }
  },
  {
   "cell_type": "code",
   "source": [
    "pip install tensorflow"
   ],
   "metadata": {
    "colab": {
     "base_uri": "https://localhost:8080/"
    },
    "id": "jsJ5zqQEck_2",
    "executionInfo": {
     "status": "ok",
     "timestamp": 1747874646365,
     "user_tz": -420,
     "elapsed": 4330,
     "user": {
      "displayName": "Reicia Data Analyst",
      "userId": "07421877077909343410"
     }
    },
    "outputId": "a18446ea-176f-4d1f-898f-37d7f91abee2"
   },
   "execution_count": null,
   "outputs": [
    {
     "output_type": "stream",
     "name": "stdout",
     "text": [
      "Requirement already satisfied: tensorflow in /usr/local/lib/python3.11/dist-packages (2.18.0)\n",
      "Requirement already satisfied: absl-py>=1.0.0 in /usr/local/lib/python3.11/dist-packages (from tensorflow) (1.4.0)\n",
      "Requirement already satisfied: astunparse>=1.6.0 in /usr/local/lib/python3.11/dist-packages (from tensorflow) (1.6.3)\n",
      "Requirement already satisfied: flatbuffers>=24.3.25 in /usr/local/lib/python3.11/dist-packages (from tensorflow) (25.2.10)\n",
      "Requirement already satisfied: gast!=0.5.0,!=0.5.1,!=0.5.2,>=0.2.1 in /usr/local/lib/python3.11/dist-packages (from tensorflow) (0.6.0)\n",
      "Requirement already satisfied: google-pasta>=0.1.1 in /usr/local/lib/python3.11/dist-packages (from tensorflow) (0.2.0)\n",
      "Requirement already satisfied: libclang>=13.0.0 in /usr/local/lib/python3.11/dist-packages (from tensorflow) (18.1.1)\n",
      "Requirement already satisfied: opt-einsum>=2.3.2 in /usr/local/lib/python3.11/dist-packages (from tensorflow) (3.4.0)\n",
      "Requirement already satisfied: packaging in /usr/local/lib/python3.11/dist-packages (from tensorflow) (24.2)\n",
      "Requirement already satisfied: protobuf!=4.21.0,!=4.21.1,!=4.21.2,!=4.21.3,!=4.21.4,!=4.21.5,<6.0.0dev,>=3.20.3 in /usr/local/lib/python3.11/dist-packages (from tensorflow) (5.29.4)\n",
      "Requirement already satisfied: requests<3,>=2.21.0 in /usr/local/lib/python3.11/dist-packages (from tensorflow) (2.32.3)\n",
      "Requirement already satisfied: setuptools in /usr/local/lib/python3.11/dist-packages (from tensorflow) (75.2.0)\n",
      "Requirement already satisfied: six>=1.12.0 in /usr/local/lib/python3.11/dist-packages (from tensorflow) (1.17.0)\n",
      "Requirement already satisfied: termcolor>=1.1.0 in /usr/local/lib/python3.11/dist-packages (from tensorflow) (3.1.0)\n",
      "Requirement already satisfied: typing-extensions>=3.6.6 in /usr/local/lib/python3.11/dist-packages (from tensorflow) (4.13.2)\n",
      "Requirement already satisfied: wrapt>=1.11.0 in /usr/local/lib/python3.11/dist-packages (from tensorflow) (1.17.2)\n",
      "Requirement already satisfied: grpcio<2.0,>=1.24.3 in /usr/local/lib/python3.11/dist-packages (from tensorflow) (1.71.0)\n",
      "Requirement already satisfied: tensorboard<2.19,>=2.18 in /usr/local/lib/python3.11/dist-packages (from tensorflow) (2.18.0)\n",
      "Requirement already satisfied: keras>=3.5.0 in /usr/local/lib/python3.11/dist-packages (from tensorflow) (3.8.0)\n",
      "Requirement already satisfied: numpy<2.1.0,>=1.26.0 in /usr/local/lib/python3.11/dist-packages (from tensorflow) (2.0.2)\n",
      "Requirement already satisfied: h5py>=3.11.0 in /usr/local/lib/python3.11/dist-packages (from tensorflow) (3.13.0)\n",
      "Requirement already satisfied: ml-dtypes<0.5.0,>=0.4.0 in /usr/local/lib/python3.11/dist-packages (from tensorflow) (0.4.1)\n",
      "Requirement already satisfied: tensorflow-io-gcs-filesystem>=0.23.1 in /usr/local/lib/python3.11/dist-packages (from tensorflow) (0.37.1)\n",
      "Requirement already satisfied: wheel<1.0,>=0.23.0 in /usr/local/lib/python3.11/dist-packages (from astunparse>=1.6.0->tensorflow) (0.45.1)\n",
      "Requirement already satisfied: rich in /usr/local/lib/python3.11/dist-packages (from keras>=3.5.0->tensorflow) (13.9.4)\n",
      "Requirement already satisfied: namex in /usr/local/lib/python3.11/dist-packages (from keras>=3.5.0->tensorflow) (0.0.9)\n",
      "Requirement already satisfied: optree in /usr/local/lib/python3.11/dist-packages (from keras>=3.5.0->tensorflow) (0.15.0)\n",
      "Requirement already satisfied: charset-normalizer<4,>=2 in /usr/local/lib/python3.11/dist-packages (from requests<3,>=2.21.0->tensorflow) (3.4.2)\n",
      "Requirement already satisfied: idna<4,>=2.5 in /usr/local/lib/python3.11/dist-packages (from requests<3,>=2.21.0->tensorflow) (3.10)\n",
      "Requirement already satisfied: urllib3<3,>=1.21.1 in /usr/local/lib/python3.11/dist-packages (from requests<3,>=2.21.0->tensorflow) (2.4.0)\n",
      "Requirement already satisfied: certifi>=2017.4.17 in /usr/local/lib/python3.11/dist-packages (from requests<3,>=2.21.0->tensorflow) (2025.4.26)\n",
      "Requirement already satisfied: markdown>=2.6.8 in /usr/local/lib/python3.11/dist-packages (from tensorboard<2.19,>=2.18->tensorflow) (3.8)\n",
      "Requirement already satisfied: tensorboard-data-server<0.8.0,>=0.7.0 in /usr/local/lib/python3.11/dist-packages (from tensorboard<2.19,>=2.18->tensorflow) (0.7.2)\n",
      "Requirement already satisfied: werkzeug>=1.0.1 in /usr/local/lib/python3.11/dist-packages (from tensorboard<2.19,>=2.18->tensorflow) (3.1.3)\n",
      "Requirement already satisfied: MarkupSafe>=2.1.1 in /usr/local/lib/python3.11/dist-packages (from werkzeug>=1.0.1->tensorboard<2.19,>=2.18->tensorflow) (3.0.2)\n",
      "Requirement already satisfied: markdown-it-py>=2.2.0 in /usr/local/lib/python3.11/dist-packages (from rich->keras>=3.5.0->tensorflow) (3.0.0)\n",
      "Requirement already satisfied: pygments<3.0.0,>=2.13.0 in /usr/local/lib/python3.11/dist-packages (from rich->keras>=3.5.0->tensorflow) (2.19.1)\n",
      "Requirement already satisfied: mdurl~=0.1 in /usr/local/lib/python3.11/dist-packages (from markdown-it-py>=2.2.0->rich->keras>=3.5.0->tensorflow) (0.1.2)\n"
     ]
    }
   ]
  },
  {
   "cell_type": "markdown",
   "source": [
    "## Import Library"
   ],
   "metadata": {
    "id": "aM0iIR7ncfqc"
   }
  },
  {
   "cell_type": "code",
   "execution_count": 1,
   "metadata": {
    "id": "ykqskpVre95Y",
    "executionInfo": {
     "status": "ok",
     "timestamp": 1747914727187,
     "user_tz": -420,
     "elapsed": 23273,
     "user": {
      "displayName": "Reicia Data Analyst",
      "userId": "07421877077909343410"
     }
    }
   },
   "outputs": [],
   "source": [
    "# --- Libraries yang digunakan ---\n",
    "import os\n",
    "import pathlib\n",
    "import random\n",
    "import shutil\n",
    "import zipfile\n",
    "\n",
    "import numpy as np\n",
    "import pandas as pd\n",
    "from tqdm.notebook import tqdm as tq\n",
    "from google.colab import files, drive\n",
    "\n",
    "# --- Mengimpor libraries untuk visualisasi ---\n",
    "%matplotlib inline\n",
    "import matplotlib.pyplot as plt\n",
    "import seaborn as sns\n",
    "\n",
    "# --- Mengimpor libraries untuk pemrosesan data gambar ---\n",
    "from PIL import Image\n",
    "import tensorflow as tf\n",
    "from sklearn.model_selection import train_test_split\n",
    "from collections import Counter\n",
    "\n",
    "# --- Mengabaikan peringatan ---\n",
    "import warnings\n",
    "warnings.simplefilter(action='ignore', category=FutureWarning)"
   ]
  },
  {
   "cell_type": "markdown",
   "source": [
    "## Data Loading"
   ],
   "metadata": {
    "id": "w3LqT1kSfTNG"
   }
  },
  {
   "cell_type": "code",
   "source": [
    "# Mount Google Drive\n",
    "drive.mount('/content/drive', force_remount=True)"
   ],
   "metadata": {
    "colab": {
     "base_uri": "https://localhost:8080/"
    },
    "id": "SPVc9mJdf0Kv",
    "executionInfo": {
     "status": "ok",
     "timestamp": 1747914748115,
     "user_tz": -420,
     "elapsed": 5080,
     "user": {
      "displayName": "Reicia Data Analyst",
      "userId": "07421877077909343410"
     }
    },
    "outputId": "4903103c-7a5c-4e5a-8d1a-5c524a7d2edc"
   },
   "execution_count": 2,
   "outputs": [
    {
     "output_type": "stream",
     "name": "stdout",
     "text": [
      "Mounted at /content/drive\n"
     ]
    }
   ]
  },
  {
   "cell_type": "code",
   "source": [
    "# Path ke folder dataset di Google Drive\n",
    "drive_path = '/content/drive/MyDrive/'\n",
    "project_folder = 'parkinson'\n",
    "dataset_path = os.path.join(drive_path, project_folder)\n",
    "zip_file_name = 'parkinson_dataset.zip'\n",
    "zip_file_path = os.path.join(dataset_path, zip_file_name)"
   ],
   "metadata": {
    "id": "Bgvr1krVbkLC",
    "executionInfo": {
     "status": "ok",
     "timestamp": 1747914752181,
     "user_tz": -420,
     "elapsed": 7,
     "user": {
      "displayName": "Reicia Data Analyst",
      "userId": "07421877077909343410"
     }
    }
   },
   "execution_count": 3,
   "outputs": []
  },
  {
   "cell_type": "code",
   "source": [
    "# Direktori tujuan untuk mengesktrak isi zip\n",
    "extraction_path = dataset_path\n",
    "\n",
    "print(f\"Mencoba mengekstrak: '{zip_file_path}' ke '{extraction_path}'\")\n",
    "\n",
    "if os.path.exists(zip_file_path):\n",
    "    !unzip '{zip_file_path}' -d '{extraction_path}'\n",
    "    print(f\"\\nFile '{zip_file_name}' berhasil diesktrak ke: {extraction_path}\")\n",
    "else:\n",
    "    print(f\"File '{zip_file_name}' tidak ditemukan di: {zip_file_path}\")"
   ],
   "metadata": {
    "colab": {
     "base_uri": "https://localhost:8080/"
    },
    "id": "GHWeyUAbbmJz",
    "executionInfo": {
     "status": "ok",
     "timestamp": 1747907948323,
     "user_tz": -420,
     "elapsed": 17593,
     "user": {
      "displayName": "Reicia Data Analyst",
      "userId": "07421877077909343410"
     }
    },
    "outputId": "2dd2ce5a-4323-4fd3-e67f-f8dc4b4e022a"
   },
   "execution_count": 9,
   "outputs": [
    {
     "output_type": "stream",
     "name": "stdout",
     "text": [
      "Mencoba mengekstrak: '/content/drive/MyDrive/parkinson/parkinson_dataset.zip' ke '/content/drive/MyDrive/parkinson'\n",
      "Archive:  /content/drive/MyDrive/parkinson/parkinson_dataset.zip\n",
      "   creating: /content/drive/MyDrive/parkinson/parkinson_dataset/\n",
      "   creating: /content/drive/MyDrive/parkinson/parkinson_dataset/meander/\n",
      "   creating: /content/drive/MyDrive/parkinson/parkinson_dataset/meander/healthy/\n",
      "  inflating: /content/drive/MyDrive/parkinson/parkinson_dataset/meander/healthy/meander_healthy_001.jpg  \n",
      "  inflating: /content/drive/MyDrive/parkinson/parkinson_dataset/meander/healthy/meander_healthy_002.jpg  \n",
      "  inflating: /content/drive/MyDrive/parkinson/parkinson_dataset/meander/healthy/meander_healthy_003.jpg  \n",
      "  inflating: /content/drive/MyDrive/parkinson/parkinson_dataset/meander/healthy/meander_healthy_004.jpg  \n",
      "  inflating: /content/drive/MyDrive/parkinson/parkinson_dataset/meander/healthy/meander_healthy_005.jpg  \n",
      "  inflating: /content/drive/MyDrive/parkinson/parkinson_dataset/meander/healthy/meander_healthy_006.jpg  \n",
      "  inflating: /content/drive/MyDrive/parkinson/parkinson_dataset/meander/healthy/meander_healthy_007.jpg  \n",
      "  inflating: /content/drive/MyDrive/parkinson/parkinson_dataset/meander/healthy/meander_healthy_008.jpg  \n",
      "  inflating: /content/drive/MyDrive/parkinson/parkinson_dataset/meander/healthy/meander_healthy_009.jpg  \n",
      "  inflating: /content/drive/MyDrive/parkinson/parkinson_dataset/meander/healthy/meander_healthy_010.jpg  \n",
      "  inflating: /content/drive/MyDrive/parkinson/parkinson_dataset/meander/healthy/meander_healthy_011.jpg  \n",
      "  inflating: /content/drive/MyDrive/parkinson/parkinson_dataset/meander/healthy/meander_healthy_012.jpg  \n",
      "  inflating: /content/drive/MyDrive/parkinson/parkinson_dataset/meander/healthy/meander_healthy_013.jpg  \n",
      "  inflating: /content/drive/MyDrive/parkinson/parkinson_dataset/meander/healthy/meander_healthy_014.jpg  \n",
      "  inflating: /content/drive/MyDrive/parkinson/parkinson_dataset/meander/healthy/meander_healthy_015.jpg  \n",
      "  inflating: /content/drive/MyDrive/parkinson/parkinson_dataset/meander/healthy/meander_healthy_016.jpg  \n",
      "  inflating: /content/drive/MyDrive/parkinson/parkinson_dataset/meander/healthy/meander_healthy_017.jpg  \n",
      "  inflating: /content/drive/MyDrive/parkinson/parkinson_dataset/meander/healthy/meander_healthy_018.jpg  \n",
      "  inflating: /content/drive/MyDrive/parkinson/parkinson_dataset/meander/healthy/meander_healthy_019.jpg  \n",
      "  inflating: /content/drive/MyDrive/parkinson/parkinson_dataset/meander/healthy/meander_healthy_020.jpg  \n",
      "  inflating: /content/drive/MyDrive/parkinson/parkinson_dataset/meander/healthy/meander_healthy_021.jpg  \n",
      "  inflating: /content/drive/MyDrive/parkinson/parkinson_dataset/meander/healthy/meander_healthy_022.jpg  \n",
      "  inflating: /content/drive/MyDrive/parkinson/parkinson_dataset/meander/healthy/meander_healthy_023.jpg  \n",
      "  inflating: /content/drive/MyDrive/parkinson/parkinson_dataset/meander/healthy/meander_healthy_024.jpg  \n",
      "  inflating: /content/drive/MyDrive/parkinson/parkinson_dataset/meander/healthy/meander_healthy_025.jpg  \n",
      "  inflating: /content/drive/MyDrive/parkinson/parkinson_dataset/meander/healthy/meander_healthy_026.jpg  \n",
      "  inflating: /content/drive/MyDrive/parkinson/parkinson_dataset/meander/healthy/meander_healthy_027.jpg  \n",
      "  inflating: /content/drive/MyDrive/parkinson/parkinson_dataset/meander/healthy/meander_healthy_028.jpg  \n",
      "  inflating: /content/drive/MyDrive/parkinson/parkinson_dataset/meander/healthy/meander_healthy_029.jpg  \n",
      "  inflating: /content/drive/MyDrive/parkinson/parkinson_dataset/meander/healthy/meander_healthy_030.jpg  \n",
      "  inflating: /content/drive/MyDrive/parkinson/parkinson_dataset/meander/healthy/meander_healthy_031.jpg  \n",
      "  inflating: /content/drive/MyDrive/parkinson/parkinson_dataset/meander/healthy/meander_healthy_032.jpg  \n",
      "  inflating: /content/drive/MyDrive/parkinson/parkinson_dataset/meander/healthy/meander_healthy_033.jpg  \n",
      "  inflating: /content/drive/MyDrive/parkinson/parkinson_dataset/meander/healthy/meander_healthy_034.jpg  \n",
      "  inflating: /content/drive/MyDrive/parkinson/parkinson_dataset/meander/healthy/meander_healthy_035.jpg  \n",
      "  inflating: /content/drive/MyDrive/parkinson/parkinson_dataset/meander/healthy/meander_healthy_036.jpg  \n",
      "  inflating: /content/drive/MyDrive/parkinson/parkinson_dataset/meander/healthy/meander_healthy_037.jpg  \n",
      "  inflating: /content/drive/MyDrive/parkinson/parkinson_dataset/meander/healthy/meander_healthy_038.jpg  \n",
      "  inflating: /content/drive/MyDrive/parkinson/parkinson_dataset/meander/healthy/meander_healthy_039.jpg  \n",
      "  inflating: /content/drive/MyDrive/parkinson/parkinson_dataset/meander/healthy/meander_healthy_040.jpg  \n",
      "  inflating: /content/drive/MyDrive/parkinson/parkinson_dataset/meander/healthy/meander_healthy_041.jpg  \n",
      "  inflating: /content/drive/MyDrive/parkinson/parkinson_dataset/meander/healthy/meander_healthy_042.jpg  \n",
      "  inflating: /content/drive/MyDrive/parkinson/parkinson_dataset/meander/healthy/meander_healthy_043.jpg  \n",
      "  inflating: /content/drive/MyDrive/parkinson/parkinson_dataset/meander/healthy/meander_healthy_044.jpg  \n",
      "  inflating: /content/drive/MyDrive/parkinson/parkinson_dataset/meander/healthy/meander_healthy_045.jpg  \n",
      "  inflating: /content/drive/MyDrive/parkinson/parkinson_dataset/meander/healthy/meander_healthy_046.jpg  \n",
      "  inflating: /content/drive/MyDrive/parkinson/parkinson_dataset/meander/healthy/meander_healthy_047.jpg  \n",
      "  inflating: /content/drive/MyDrive/parkinson/parkinson_dataset/meander/healthy/meander_healthy_048.jpg  \n",
      "  inflating: /content/drive/MyDrive/parkinson/parkinson_dataset/meander/healthy/meander_healthy_049.jpg  \n",
      "  inflating: /content/drive/MyDrive/parkinson/parkinson_dataset/meander/healthy/meander_healthy_050.jpg  \n",
      "  inflating: /content/drive/MyDrive/parkinson/parkinson_dataset/meander/healthy/meander_healthy_051.jpg  \n",
      "  inflating: /content/drive/MyDrive/parkinson/parkinson_dataset/meander/healthy/meander_healthy_052.jpg  \n",
      "  inflating: /content/drive/MyDrive/parkinson/parkinson_dataset/meander/healthy/meander_healthy_053.jpg  \n",
      "  inflating: /content/drive/MyDrive/parkinson/parkinson_dataset/meander/healthy/meander_healthy_054.jpg  \n",
      "  inflating: /content/drive/MyDrive/parkinson/parkinson_dataset/meander/healthy/meander_healthy_055.jpg  \n",
      "  inflating: /content/drive/MyDrive/parkinson/parkinson_dataset/meander/healthy/meander_healthy_056.jpg  \n",
      "  inflating: /content/drive/MyDrive/parkinson/parkinson_dataset/meander/healthy/meander_healthy_057.jpg  \n",
      "  inflating: /content/drive/MyDrive/parkinson/parkinson_dataset/meander/healthy/meander_healthy_058.jpg  \n",
      "  inflating: /content/drive/MyDrive/parkinson/parkinson_dataset/meander/healthy/meander_healthy_059.jpg  \n",
      "  inflating: /content/drive/MyDrive/parkinson/parkinson_dataset/meander/healthy/meander_healthy_060.jpg  \n",
      "  inflating: /content/drive/MyDrive/parkinson/parkinson_dataset/meander/healthy/meander_healthy_061.jpg  \n",
      "  inflating: /content/drive/MyDrive/parkinson/parkinson_dataset/meander/healthy/meander_healthy_062.jpg  \n",
      "  inflating: /content/drive/MyDrive/parkinson/parkinson_dataset/meander/healthy/meander_healthy_063.jpg  \n",
      "  inflating: /content/drive/MyDrive/parkinson/parkinson_dataset/meander/healthy/meander_healthy_064.jpg  \n",
      "  inflating: /content/drive/MyDrive/parkinson/parkinson_dataset/meander/healthy/meander_healthy_065.jpg  \n",
      "  inflating: /content/drive/MyDrive/parkinson/parkinson_dataset/meander/healthy/meander_healthy_066.jpg  \n",
      "  inflating: /content/drive/MyDrive/parkinson/parkinson_dataset/meander/healthy/meander_healthy_067.jpg  \n",
      "  inflating: /content/drive/MyDrive/parkinson/parkinson_dataset/meander/healthy/meander_healthy_068.jpg  \n",
      "  inflating: /content/drive/MyDrive/parkinson/parkinson_dataset/meander/healthy/meander_healthy_069.jpg  \n",
      "  inflating: /content/drive/MyDrive/parkinson/parkinson_dataset/meander/healthy/meander_healthy_070.jpg  \n",
      "  inflating: /content/drive/MyDrive/parkinson/parkinson_dataset/meander/healthy/meander_healthy_071.jpg  \n",
      "  inflating: /content/drive/MyDrive/parkinson/parkinson_dataset/meander/healthy/meander_healthy_072.jpg  \n",
      "   creating: /content/drive/MyDrive/parkinson/parkinson_dataset/meander/parkinson/\n",
      "  inflating: /content/drive/MyDrive/parkinson/parkinson_dataset/meander/parkinson/.DS_Store  \n",
      "  inflating: /content/drive/MyDrive/parkinson/parkinson_dataset/meander/parkinson/meander_parkinson_002.jpg  \n",
      "  inflating: /content/drive/MyDrive/parkinson/parkinson_dataset/meander/parkinson/meander_parkinson_003.jpg  \n",
      "  inflating: /content/drive/MyDrive/parkinson/parkinson_dataset/meander/parkinson/meander_parkinson_004.jpg  \n",
      "  inflating: /content/drive/MyDrive/parkinson/parkinson_dataset/meander/parkinson/meander_parkinson_005.jpg  \n",
      "  inflating: /content/drive/MyDrive/parkinson/parkinson_dataset/meander/parkinson/meander_parkinson_006.jpg  \n",
      "  inflating: /content/drive/MyDrive/parkinson/parkinson_dataset/meander/parkinson/meander_parkinson_007.jpg  \n",
      "  inflating: /content/drive/MyDrive/parkinson/parkinson_dataset/meander/parkinson/meander_parkinson_008.jpg  \n",
      "  inflating: /content/drive/MyDrive/parkinson/parkinson_dataset/meander/parkinson/meander_parkinson_009.jpg  \n",
      "  inflating: /content/drive/MyDrive/parkinson/parkinson_dataset/meander/parkinson/meander_parkinson_010.jpg  \n",
      "  inflating: /content/drive/MyDrive/parkinson/parkinson_dataset/meander/parkinson/meander_parkinson_011.jpg  \n",
      "  inflating: /content/drive/MyDrive/parkinson/parkinson_dataset/meander/parkinson/meander_parkinson_012.jpg  \n",
      "  inflating: /content/drive/MyDrive/parkinson/parkinson_dataset/meander/parkinson/meander_parkinson_013.jpg  \n",
      "  inflating: /content/drive/MyDrive/parkinson/parkinson_dataset/meander/parkinson/meander_parkinson_014.jpg  \n",
      "  inflating: /content/drive/MyDrive/parkinson/parkinson_dataset/meander/parkinson/meander_parkinson_015.jpg  \n",
      "  inflating: /content/drive/MyDrive/parkinson/parkinson_dataset/meander/parkinson/meander_parkinson_016.jpg  \n",
      "  inflating: /content/drive/MyDrive/parkinson/parkinson_dataset/meander/parkinson/meander_parkinson_017.jpg  \n",
      "  inflating: /content/drive/MyDrive/parkinson/parkinson_dataset/meander/parkinson/meander_parkinson_018.jpg  \n",
      "  inflating: /content/drive/MyDrive/parkinson/parkinson_dataset/meander/parkinson/meander_parkinson_019.jpg  \n",
      "  inflating: /content/drive/MyDrive/parkinson/parkinson_dataset/meander/parkinson/meander_parkinson_020.jpg  \n",
      "  inflating: /content/drive/MyDrive/parkinson/parkinson_dataset/meander/parkinson/meander_parkinson_021.jpg  \n",
      "  inflating: /content/drive/MyDrive/parkinson/parkinson_dataset/meander/parkinson/meander_parkinson_022.jpg  \n",
      "  inflating: /content/drive/MyDrive/parkinson/parkinson_dataset/meander/parkinson/meander_parkinson_023.jpg  \n",
      "  inflating: /content/drive/MyDrive/parkinson/parkinson_dataset/meander/parkinson/meander_parkinson_024.jpg  \n",
      "  inflating: /content/drive/MyDrive/parkinson/parkinson_dataset/meander/parkinson/meander_parkinson_025.jpg  \n",
      "  inflating: /content/drive/MyDrive/parkinson/parkinson_dataset/meander/parkinson/meander_parkinson_026.jpg  \n",
      "  inflating: /content/drive/MyDrive/parkinson/parkinson_dataset/meander/parkinson/meander_parkinson_027.jpg  \n",
      "  inflating: /content/drive/MyDrive/parkinson/parkinson_dataset/meander/parkinson/meander_parkinson_028.jpg  \n",
      "  inflating: /content/drive/MyDrive/parkinson/parkinson_dataset/meander/parkinson/meander_parkinson_029.jpg  \n",
      "  inflating: /content/drive/MyDrive/parkinson/parkinson_dataset/meander/parkinson/meander_parkinson_030.jpg  \n",
      "  inflating: /content/drive/MyDrive/parkinson/parkinson_dataset/meander/parkinson/meander_parkinson_031.jpg  \n",
      "  inflating: /content/drive/MyDrive/parkinson/parkinson_dataset/meander/parkinson/meander_parkinson_032.jpg  \n",
      "  inflating: /content/drive/MyDrive/parkinson/parkinson_dataset/meander/parkinson/meander_parkinson_033.jpg  \n",
      "  inflating: /content/drive/MyDrive/parkinson/parkinson_dataset/meander/parkinson/meander_parkinson_034.jpg  \n",
      "  inflating: /content/drive/MyDrive/parkinson/parkinson_dataset/meander/parkinson/meander_parkinson_035.jpg  \n",
      "  inflating: /content/drive/MyDrive/parkinson/parkinson_dataset/meander/parkinson/meander_parkinson_036.jpg  \n",
      "  inflating: /content/drive/MyDrive/parkinson/parkinson_dataset/meander/parkinson/meander_parkinson_037.jpg  \n",
      "  inflating: /content/drive/MyDrive/parkinson/parkinson_dataset/meander/parkinson/meander_parkinson_038.jpg  \n",
      "  inflating: /content/drive/MyDrive/parkinson/parkinson_dataset/meander/parkinson/meander_parkinson_039.jpg  \n",
      "  inflating: /content/drive/MyDrive/parkinson/parkinson_dataset/meander/parkinson/meander_parkinson_040.jpg  \n",
      "  inflating: /content/drive/MyDrive/parkinson/parkinson_dataset/meander/parkinson/meander_parkinson_041.jpg  \n",
      "  inflating: /content/drive/MyDrive/parkinson/parkinson_dataset/meander/parkinson/meander_parkinson_042.jpg  \n",
      "  inflating: /content/drive/MyDrive/parkinson/parkinson_dataset/meander/parkinson/meander_parkinson_043.jpg  \n",
      "  inflating: /content/drive/MyDrive/parkinson/parkinson_dataset/meander/parkinson/meander_parkinson_044.jpg  \n",
      "  inflating: /content/drive/MyDrive/parkinson/parkinson_dataset/meander/parkinson/meander_parkinson_045.jpg  \n",
      "  inflating: /content/drive/MyDrive/parkinson/parkinson_dataset/meander/parkinson/meander_parkinson_046.jpg  \n",
      "  inflating: /content/drive/MyDrive/parkinson/parkinson_dataset/meander/parkinson/meander_parkinson_047.jpg  \n",
      "  inflating: /content/drive/MyDrive/parkinson/parkinson_dataset/meander/parkinson/meander_parkinson_048.jpg  \n",
      "  inflating: /content/drive/MyDrive/parkinson/parkinson_dataset/meander/parkinson/meander_parkinson_049.jpg  \n",
      "  inflating: /content/drive/MyDrive/parkinson/parkinson_dataset/meander/parkinson/meander_parkinson_050.jpg  \n",
      "  inflating: /content/drive/MyDrive/parkinson/parkinson_dataset/meander/parkinson/meander_parkinson_051.jpg  \n",
      "  inflating: /content/drive/MyDrive/parkinson/parkinson_dataset/meander/parkinson/meander_parkinson_052.jpg  \n",
      "  inflating: /content/drive/MyDrive/parkinson/parkinson_dataset/meander/parkinson/meander_parkinson_053.jpg  \n",
      "  inflating: /content/drive/MyDrive/parkinson/parkinson_dataset/meander/parkinson/meander_parkinson_054.jpg  \n",
      "  inflating: /content/drive/MyDrive/parkinson/parkinson_dataset/meander/parkinson/meander_parkinson_055.jpg  \n",
      "  inflating: /content/drive/MyDrive/parkinson/parkinson_dataset/meander/parkinson/meander_parkinson_056.jpg  \n",
      "  inflating: /content/drive/MyDrive/parkinson/parkinson_dataset/meander/parkinson/meander_parkinson_057.jpg  \n",
      "  inflating: /content/drive/MyDrive/parkinson/parkinson_dataset/meander/parkinson/meander_parkinson_058.jpg  \n",
      "  inflating: /content/drive/MyDrive/parkinson/parkinson_dataset/meander/parkinson/meander_parkinson_059.jpg  \n",
      "  inflating: /content/drive/MyDrive/parkinson/parkinson_dataset/meander/parkinson/meander_parkinson_060.jpg  \n",
      "  inflating: /content/drive/MyDrive/parkinson/parkinson_dataset/meander/parkinson/meander_parkinson_061.jpg  \n",
      "  inflating: /content/drive/MyDrive/parkinson/parkinson_dataset/meander/parkinson/meander_parkinson_062.jpg  \n",
      "  inflating: /content/drive/MyDrive/parkinson/parkinson_dataset/meander/parkinson/meander_parkinson_063.jpg  \n",
      "  inflating: /content/drive/MyDrive/parkinson/parkinson_dataset/meander/parkinson/meander_parkinson_064.jpg  \n",
      "  inflating: /content/drive/MyDrive/parkinson/parkinson_dataset/meander/parkinson/meander_parkinson_065.jpg  \n",
      "  inflating: /content/drive/MyDrive/parkinson/parkinson_dataset/meander/parkinson/meander_parkinson_066.jpg  \n",
      "  inflating: /content/drive/MyDrive/parkinson/parkinson_dataset/meander/parkinson/meander_parkinson_067.jpg  \n",
      "  inflating: /content/drive/MyDrive/parkinson/parkinson_dataset/meander/parkinson/meander_parkinson_068.jpg  \n",
      "  inflating: /content/drive/MyDrive/parkinson/parkinson_dataset/meander/parkinson/meander_parkinson_069.jpg  \n",
      "  inflating: /content/drive/MyDrive/parkinson/parkinson_dataset/meander/parkinson/meander_parkinson_070.jpg  \n",
      "  inflating: /content/drive/MyDrive/parkinson/parkinson_dataset/meander/parkinson/meander_parkinson_071.jpg  \n",
      "  inflating: /content/drive/MyDrive/parkinson/parkinson_dataset/meander/parkinson/meander_parkinson_072.jpg  \n",
      "  inflating: /content/drive/MyDrive/parkinson/parkinson_dataset/meander/parkinson/meander_parkinson_073.jpg  \n",
      "  inflating: /content/drive/MyDrive/parkinson/parkinson_dataset/meander/parkinson/meander_parkinson_074.jpg  \n",
      "  inflating: /content/drive/MyDrive/parkinson/parkinson_dataset/meander/parkinson/meander_parkinson_075.jpg  \n",
      "  inflating: /content/drive/MyDrive/parkinson/parkinson_dataset/meander/parkinson/meander_parkinson_076.jpg  \n",
      "  inflating: /content/drive/MyDrive/parkinson/parkinson_dataset/meander/parkinson/meander_parkinson_077.jpg  \n",
      "  inflating: /content/drive/MyDrive/parkinson/parkinson_dataset/meander/parkinson/meander_parkinson_078.jpg  \n",
      "  inflating: /content/drive/MyDrive/parkinson/parkinson_dataset/meander/parkinson/meander_parkinson_079.jpg  \n",
      "  inflating: /content/drive/MyDrive/parkinson/parkinson_dataset/meander/parkinson/meander_parkinson_080.jpg  \n",
      "  inflating: /content/drive/MyDrive/parkinson/parkinson_dataset/meander/parkinson/meander_parkinson_081.jpg  \n",
      "  inflating: /content/drive/MyDrive/parkinson/parkinson_dataset/meander/parkinson/meander_parkinson_082.jpg  \n",
      "  inflating: /content/drive/MyDrive/parkinson/parkinson_dataset/meander/parkinson/meander_parkinson_083.jpg  \n",
      "  inflating: /content/drive/MyDrive/parkinson/parkinson_dataset/meander/parkinson/meander_parkinson_084.jpg  \n",
      "  inflating: /content/drive/MyDrive/parkinson/parkinson_dataset/meander/parkinson/meander_parkinson_085.jpg  \n",
      "  inflating: /content/drive/MyDrive/parkinson/parkinson_dataset/meander/parkinson/meander_parkinson_086.jpg  \n",
      "  inflating: /content/drive/MyDrive/parkinson/parkinson_dataset/meander/parkinson/meander_parkinson_087.jpg  \n",
      "  inflating: /content/drive/MyDrive/parkinson/parkinson_dataset/meander/parkinson/meander_parkinson_088.jpg  \n",
      "  inflating: /content/drive/MyDrive/parkinson/parkinson_dataset/meander/parkinson/meander_parkinson_089.jpg  \n",
      "  inflating: /content/drive/MyDrive/parkinson/parkinson_dataset/meander/parkinson/meander_parkinson_090.jpg  \n",
      "  inflating: /content/drive/MyDrive/parkinson/parkinson_dataset/meander/parkinson/meander_parkinson_091.jpg  \n",
      "  inflating: /content/drive/MyDrive/parkinson/parkinson_dataset/meander/parkinson/meander_parkinson_092.jpg  \n",
      "  inflating: /content/drive/MyDrive/parkinson/parkinson_dataset/meander/parkinson/meander_parkinson_093.jpg  \n",
      "  inflating: /content/drive/MyDrive/parkinson/parkinson_dataset/meander/parkinson/meander_parkinson_094.jpg  \n",
      "  inflating: /content/drive/MyDrive/parkinson/parkinson_dataset/meander/parkinson/meander_parkinson_095.jpg  \n",
      "  inflating: /content/drive/MyDrive/parkinson/parkinson_dataset/meander/parkinson/meander_parkinson_096.jpg  \n",
      "  inflating: /content/drive/MyDrive/parkinson/parkinson_dataset/meander/parkinson/meander_parkinson_097.jpg  \n",
      "  inflating: /content/drive/MyDrive/parkinson/parkinson_dataset/meander/parkinson/meander_parkinson_098.jpg  \n",
      "  inflating: /content/drive/MyDrive/parkinson/parkinson_dataset/meander/parkinson/meander_parkinson_099.jpg  \n",
      "  inflating: /content/drive/MyDrive/parkinson/parkinson_dataset/meander/parkinson/meander_parkinson_100.jpg  \n",
      "  inflating: /content/drive/MyDrive/parkinson/parkinson_dataset/meander/parkinson/meander_parkinson_101.jpg  \n",
      "  inflating: /content/drive/MyDrive/parkinson/parkinson_dataset/meander/parkinson/meander_parkinson_102.jpg  \n",
      "  inflating: /content/drive/MyDrive/parkinson/parkinson_dataset/meander/parkinson/meander_parkinson_103.jpg  \n",
      "  inflating: /content/drive/MyDrive/parkinson/parkinson_dataset/meander/parkinson/meander_parkinson_104.jpg  \n",
      "  inflating: /content/drive/MyDrive/parkinson/parkinson_dataset/meander/parkinson/meander_parkinson_105.jpg  \n",
      "  inflating: /content/drive/MyDrive/parkinson/parkinson_dataset/meander/parkinson/meander_parkinson_106.jpg  \n",
      "  inflating: /content/drive/MyDrive/parkinson/parkinson_dataset/meander/parkinson/meander_parkinson_107.jpg  \n",
      "  inflating: /content/drive/MyDrive/parkinson/parkinson_dataset/meander/parkinson/meander_parkinson_108.jpg  \n",
      "  inflating: /content/drive/MyDrive/parkinson/parkinson_dataset/meander/parkinson/meander_parkinson_109.jpg  \n",
      "  inflating: /content/drive/MyDrive/parkinson/parkinson_dataset/meander/parkinson/meander_parkinson_110.jpg  \n",
      "  inflating: /content/drive/MyDrive/parkinson/parkinson_dataset/meander/parkinson/meander_parkinson_111.jpg  \n",
      "  inflating: /content/drive/MyDrive/parkinson/parkinson_dataset/meander/parkinson/meander_parkinson_112.jpg  \n",
      "  inflating: /content/drive/MyDrive/parkinson/parkinson_dataset/meander/parkinson/meander_parkinson_113.jpg  \n",
      "  inflating: /content/drive/MyDrive/parkinson/parkinson_dataset/meander/parkinson/meander_parkinson_114.jpg  \n",
      "  inflating: /content/drive/MyDrive/parkinson/parkinson_dataset/meander/parkinson/meander_parkinson_115.jpg  \n",
      "  inflating: /content/drive/MyDrive/parkinson/parkinson_dataset/meander/parkinson/meander_parkinson_116.jpg  \n",
      "  inflating: /content/drive/MyDrive/parkinson/parkinson_dataset/meander/parkinson/meander_parkinson_117.jpg  \n",
      "  inflating: /content/drive/MyDrive/parkinson/parkinson_dataset/meander/parkinson/meander_parkinson_118.jpg  \n",
      "  inflating: /content/drive/MyDrive/parkinson/parkinson_dataset/meander/parkinson/meander_parkinson_119.jpg  \n",
      "  inflating: /content/drive/MyDrive/parkinson/parkinson_dataset/meander/parkinson/meander_parkinson_120.jpg  \n",
      "  inflating: /content/drive/MyDrive/parkinson/parkinson_dataset/meander/parkinson/meander_parkinson_121.jpg  \n",
      "  inflating: /content/drive/MyDrive/parkinson/parkinson_dataset/meander/parkinson/meander_parkinson_122.jpg  \n",
      "  inflating: /content/drive/MyDrive/parkinson/parkinson_dataset/meander/parkinson/meander_parkinson_123.jpg  \n",
      "  inflating: /content/drive/MyDrive/parkinson/parkinson_dataset/meander/parkinson/meander_parkinson_124.jpg  \n",
      "  inflating: /content/drive/MyDrive/parkinson/parkinson_dataset/meander/parkinson/meander_parkinson_125.jpg  \n",
      "  inflating: /content/drive/MyDrive/parkinson/parkinson_dataset/meander/parkinson/meander_parkinson_126.jpg  \n",
      "  inflating: /content/drive/MyDrive/parkinson/parkinson_dataset/meander/parkinson/meander_parkinson_127.jpg  \n",
      "  inflating: /content/drive/MyDrive/parkinson/parkinson_dataset/meander/parkinson/meander_parkinson_128.jpg  \n",
      "  inflating: /content/drive/MyDrive/parkinson/parkinson_dataset/meander/parkinson/meander_parkinson_129.jpg  \n",
      "  inflating: /content/drive/MyDrive/parkinson/parkinson_dataset/meander/parkinson/meander_parkinson_130.jpg  \n",
      "  inflating: /content/drive/MyDrive/parkinson/parkinson_dataset/meander/parkinson/meander_parkinson_131.jpg  \n",
      "  inflating: /content/drive/MyDrive/parkinson/parkinson_dataset/meander/parkinson/meander_parkinson_132.jpg  \n",
      "  inflating: /content/drive/MyDrive/parkinson/parkinson_dataset/meander/parkinson/meander_parkinson_133.jpg  \n",
      "  inflating: /content/drive/MyDrive/parkinson/parkinson_dataset/meander/parkinson/meander_parkinson_134.jpg  \n",
      "  inflating: /content/drive/MyDrive/parkinson/parkinson_dataset/meander/parkinson/meander_parkinson_135.jpg  \n",
      "  inflating: /content/drive/MyDrive/parkinson/parkinson_dataset/meander/parkinson/meander_parkinson_136.jpg  \n",
      "  inflating: /content/drive/MyDrive/parkinson/parkinson_dataset/meander/parkinson/meander_parkinson_137.jpg  \n",
      "  inflating: /content/drive/MyDrive/parkinson/parkinson_dataset/meander/parkinson/meander_parkinson_138.jpg  \n",
      "  inflating: /content/drive/MyDrive/parkinson/parkinson_dataset/meander/parkinson/meander_parkinson_139.jpg  \n",
      "  inflating: /content/drive/MyDrive/parkinson/parkinson_dataset/meander/parkinson/meander_parkinson_140.jpg  \n",
      "  inflating: /content/drive/MyDrive/parkinson/parkinson_dataset/meander/parkinson/meander_parkinson_141.jpg  \n",
      "  inflating: /content/drive/MyDrive/parkinson/parkinson_dataset/meander/parkinson/meander_parkinson_142.jpg  \n",
      "  inflating: /content/drive/MyDrive/parkinson/parkinson_dataset/meander/parkinson/meander_parkinson_143.jpg  \n",
      "  inflating: /content/drive/MyDrive/parkinson/parkinson_dataset/meander/parkinson/meander_parkinson_144.jpg  \n",
      "  inflating: /content/drive/MyDrive/parkinson/parkinson_dataset/meander/parkinson/meander_parkinson_145.jpg  \n",
      "  inflating: /content/drive/MyDrive/parkinson/parkinson_dataset/meander/parkinson/meander_parkinson_146.jpg  \n",
      "  inflating: /content/drive/MyDrive/parkinson/parkinson_dataset/meander/parkinson/meander_parkinson_147.jpg  \n",
      "  inflating: /content/drive/MyDrive/parkinson/parkinson_dataset/meander/parkinson/meander_parkinson_148.jpg  \n",
      "  inflating: /content/drive/MyDrive/parkinson/parkinson_dataset/meander/parkinson/meander_parkinson_149.jpg  \n",
      "  inflating: /content/drive/MyDrive/parkinson/parkinson_dataset/meander/parkinson/meander_parkinson_150.jpg  \n",
      "  inflating: /content/drive/MyDrive/parkinson/parkinson_dataset/meander/parkinson/meander_parkinson_151.jpg  \n",
      "  inflating: /content/drive/MyDrive/parkinson/parkinson_dataset/meander/parkinson/meander_parkinson_152.jpg  \n",
      "  inflating: /content/drive/MyDrive/parkinson/parkinson_dataset/meander/parkinson/meander_parkinson_153.jpg  \n",
      "  inflating: /content/drive/MyDrive/parkinson/parkinson_dataset/meander/parkinson/meander_parkinson_154.jpg  \n",
      "  inflating: /content/drive/MyDrive/parkinson/parkinson_dataset/meander/parkinson/meander_parkinson_155.jpg  \n",
      "  inflating: /content/drive/MyDrive/parkinson/parkinson_dataset/meander/parkinson/meander_parkinson_156.jpg  \n",
      "  inflating: /content/drive/MyDrive/parkinson/parkinson_dataset/meander/parkinson/meander_parkinson_157.jpg  \n",
      "  inflating: /content/drive/MyDrive/parkinson/parkinson_dataset/meander/parkinson/meander_parkinson_158.jpg  \n",
      "  inflating: /content/drive/MyDrive/parkinson/parkinson_dataset/meander/parkinson/meander_parkinson_159.jpg  \n",
      "  inflating: /content/drive/MyDrive/parkinson/parkinson_dataset/meander/parkinson/meander_parkinson_160.jpg  \n",
      "  inflating: /content/drive/MyDrive/parkinson/parkinson_dataset/meander/parkinson/meander_parkinson_161.jpg  \n",
      "  inflating: /content/drive/MyDrive/parkinson/parkinson_dataset/meander/parkinson/meander_parkinson_162.jpg  \n",
      "  inflating: /content/drive/MyDrive/parkinson/parkinson_dataset/meander/parkinson/meander_parkinson_163.jpg  \n",
      "  inflating: /content/drive/MyDrive/parkinson/parkinson_dataset/meander/parkinson/meander_parkinson_164.jpg  \n",
      "  inflating: /content/drive/MyDrive/parkinson/parkinson_dataset/meander/parkinson/meander_parkinson_165.jpg  \n",
      "  inflating: /content/drive/MyDrive/parkinson/parkinson_dataset/meander/parkinson/meander_parkinson_166.jpg  \n",
      "  inflating: /content/drive/MyDrive/parkinson/parkinson_dataset/meander/parkinson/meander_parkinson_167.jpg  \n",
      "  inflating: /content/drive/MyDrive/parkinson/parkinson_dataset/meander/parkinson/meander_parkinson_168.jpg  \n",
      "  inflating: /content/drive/MyDrive/parkinson/parkinson_dataset/meander/parkinson/meander_parkinson_169.jpg  \n",
      "  inflating: /content/drive/MyDrive/parkinson/parkinson_dataset/meander/parkinson/meander_parkinson_170.jpg  \n",
      "  inflating: /content/drive/MyDrive/parkinson/parkinson_dataset/meander/parkinson/meander_parkinson_171.jpg  \n",
      "  inflating: /content/drive/MyDrive/parkinson/parkinson_dataset/meander/parkinson/meander_parkinson_172.jpg  \n",
      "  inflating: /content/drive/MyDrive/parkinson/parkinson_dataset/meander/parkinson/meander_parkinson_173.jpg  \n",
      "  inflating: /content/drive/MyDrive/parkinson/parkinson_dataset/meander/parkinson/meander_parkinson_174.jpg  \n",
      "  inflating: /content/drive/MyDrive/parkinson/parkinson_dataset/meander/parkinson/meander_parkinson_175.jpg  \n",
      "  inflating: /content/drive/MyDrive/parkinson/parkinson_dataset/meander/parkinson/meander_parkinson_176.jpg  \n",
      "  inflating: /content/drive/MyDrive/parkinson/parkinson_dataset/meander/parkinson/meander_parkinson_177.jpg  \n",
      "  inflating: /content/drive/MyDrive/parkinson/parkinson_dataset/meander/parkinson/meander_parkinson_178.jpg  \n",
      "  inflating: /content/drive/MyDrive/parkinson/parkinson_dataset/meander/parkinson/meander_parkinson_179.jpg  \n",
      "  inflating: /content/drive/MyDrive/parkinson/parkinson_dataset/meander/parkinson/meander_parkinson_180.jpg  \n",
      "  inflating: /content/drive/MyDrive/parkinson/parkinson_dataset/meander/parkinson/meander_parkinson_181.jpg  \n",
      "  inflating: /content/drive/MyDrive/parkinson/parkinson_dataset/meander/parkinson/meander_parkinson_182.jpg  \n",
      "  inflating: /content/drive/MyDrive/parkinson/parkinson_dataset/meander/parkinson/meander_parkinson_183.jpg  \n",
      "  inflating: /content/drive/MyDrive/parkinson/parkinson_dataset/meander/parkinson/meander_parkinson_184.jpg  \n",
      "  inflating: /content/drive/MyDrive/parkinson/parkinson_dataset/meander/parkinson/meander_parkinson_185.jpg  \n",
      "  inflating: /content/drive/MyDrive/parkinson/parkinson_dataset/meander/parkinson/meander_parkinson_186.jpg  \n",
      "  inflating: /content/drive/MyDrive/parkinson/parkinson_dataset/meander/parkinson/meander_parkinson_187.jpg  \n",
      "  inflating: /content/drive/MyDrive/parkinson/parkinson_dataset/meander/parkinson/meander_parkinson_188.jpg  \n",
      "  inflating: /content/drive/MyDrive/parkinson/parkinson_dataset/meander/parkinson/meander_parkinson_189.jpg  \n",
      "  inflating: /content/drive/MyDrive/parkinson/parkinson_dataset/meander/parkinson/meander_parkinson_190.jpg  \n",
      "  inflating: /content/drive/MyDrive/parkinson/parkinson_dataset/meander/parkinson/meander_parkinson_191.jpg  \n",
      "  inflating: /content/drive/MyDrive/parkinson/parkinson_dataset/meander/parkinson/meander_parkinson_192.jpg  \n",
      "  inflating: /content/drive/MyDrive/parkinson/parkinson_dataset/meander/parkinson/meander_parkinson_193.jpg  \n",
      "  inflating: /content/drive/MyDrive/parkinson/parkinson_dataset/meander/parkinson/meander_parkinson_194.jpg  \n",
      "  inflating: /content/drive/MyDrive/parkinson/parkinson_dataset/meander/parkinson/meander_parkinson_195.jpg  \n",
      "  inflating: /content/drive/MyDrive/parkinson/parkinson_dataset/meander/parkinson/meander_parkinson_196.jpg  \n",
      "  inflating: /content/drive/MyDrive/parkinson/parkinson_dataset/meander/parkinson/meander_parkinson_197.jpg  \n",
      "  inflating: /content/drive/MyDrive/parkinson/parkinson_dataset/meander/parkinson/meander_parkinson_198.jpg  \n",
      "  inflating: /content/drive/MyDrive/parkinson/parkinson_dataset/meander/parkinson/meander_parkinson_199.jpg  \n",
      "  inflating: /content/drive/MyDrive/parkinson/parkinson_dataset/meander/parkinson/meander_parkinson_200.jpg  \n",
      "  inflating: /content/drive/MyDrive/parkinson/parkinson_dataset/meander/parkinson/meander_parkinson_201.jpg  \n",
      "  inflating: /content/drive/MyDrive/parkinson/parkinson_dataset/meander/parkinson/meander_parkinson_202.jpg  \n",
      "  inflating: /content/drive/MyDrive/parkinson/parkinson_dataset/meander/parkinson/meander_parkinson_203.jpg  \n",
      "  inflating: /content/drive/MyDrive/parkinson/parkinson_dataset/meander/parkinson/meander_parkinson_204.jpg  \n",
      "  inflating: /content/drive/MyDrive/parkinson/parkinson_dataset/meander/parkinson/meander_parkinson_205.jpg  \n",
      "  inflating: /content/drive/MyDrive/parkinson/parkinson_dataset/meander/parkinson/meander_parkinson_206.jpg  \n",
      "  inflating: /content/drive/MyDrive/parkinson/parkinson_dataset/meander/parkinson/meander_parkinson_207.jpg  \n",
      "  inflating: /content/drive/MyDrive/parkinson/parkinson_dataset/meander/parkinson/meander_parkinson_208.jpg  \n",
      "  inflating: /content/drive/MyDrive/parkinson/parkinson_dataset/meander/parkinson/meander_parkinson_209.jpg  \n",
      "  inflating: /content/drive/MyDrive/parkinson/parkinson_dataset/meander/parkinson/meander_parkinson_210.jpg  \n",
      "  inflating: /content/drive/MyDrive/parkinson/parkinson_dataset/meander/parkinson/meander_parkinson_211.jpg  \n",
      "  inflating: /content/drive/MyDrive/parkinson/parkinson_dataset/meander/parkinson/meander_parkinson_212.jpg  \n",
      "  inflating: /content/drive/MyDrive/parkinson/parkinson_dataset/meander/parkinson/meander_parkinson_213.jpg  \n",
      "  inflating: /content/drive/MyDrive/parkinson/parkinson_dataset/meander/parkinson/meander_parkinson_214.jpg  \n",
      "  inflating: /content/drive/MyDrive/parkinson/parkinson_dataset/meander/parkinson/meander_parkinson_215.jpg  \n",
      "  inflating: /content/drive/MyDrive/parkinson/parkinson_dataset/meander/parkinson/meander_parkinson_216.jpg  \n",
      "  inflating: /content/drive/MyDrive/parkinson/parkinson_dataset/meander/parkinson/meander_parkinson_217.jpg  \n",
      "  inflating: /content/drive/MyDrive/parkinson/parkinson_dataset/meander/parkinson/meander_parkinson_218.jpg  \n",
      "  inflating: /content/drive/MyDrive/parkinson/parkinson_dataset/meander/parkinson/meander_parkinson_219.jpg  \n",
      "  inflating: /content/drive/MyDrive/parkinson/parkinson_dataset/meander/parkinson/meander_parkinson_220.jpg  \n",
      "  inflating: /content/drive/MyDrive/parkinson/parkinson_dataset/meander/parkinson/meander_parkinson_221.jpg  \n",
      "  inflating: /content/drive/MyDrive/parkinson/parkinson_dataset/meander/parkinson/meander_parkinson_222.jpg  \n",
      "  inflating: /content/drive/MyDrive/parkinson/parkinson_dataset/meander/parkinson/meander_parkinson_223.jpg  \n",
      "  inflating: /content/drive/MyDrive/parkinson/parkinson_dataset/meander/parkinson/meander_parkinson_224.jpg  \n",
      "  inflating: /content/drive/MyDrive/parkinson/parkinson_dataset/meander/parkinson/meander_parkinson_225.jpg  \n",
      "  inflating: /content/drive/MyDrive/parkinson/parkinson_dataset/meander/parkinson/meander_parkinson_226.jpg  \n",
      "  inflating: /content/drive/MyDrive/parkinson/parkinson_dataset/meander/parkinson/meander_parkinson_227.jpg  \n",
      "  inflating: /content/drive/MyDrive/parkinson/parkinson_dataset/meander/parkinson/meander_parkinson_228.jpg  \n",
      "  inflating: /content/drive/MyDrive/parkinson/parkinson_dataset/meander/parkinson/meander_parkinson_229.jpg  \n",
      "  inflating: /content/drive/MyDrive/parkinson/parkinson_dataset/meander/parkinson/meander_parkinson_230.jpg  \n",
      "  inflating: /content/drive/MyDrive/parkinson/parkinson_dataset/meander/parkinson/meander_parkinson_231.jpg  \n",
      "  inflating: /content/drive/MyDrive/parkinson/parkinson_dataset/meander/parkinson/meander_parkinson_232.jpg  \n",
      "  inflating: /content/drive/MyDrive/parkinson/parkinson_dataset/meander/parkinson/meander_parkinson_233.jpg  \n",
      "  inflating: /content/drive/MyDrive/parkinson/parkinson_dataset/meander/parkinson/meander_parkinson_234.jpg  \n",
      "  inflating: /content/drive/MyDrive/parkinson/parkinson_dataset/meander/parkinson/meander_parkinson_235.jpg  \n",
      "  inflating: /content/drive/MyDrive/parkinson/parkinson_dataset/meander/parkinson/meander_parkinson_236.jpg  \n",
      "  inflating: /content/drive/MyDrive/parkinson/parkinson_dataset/meander/parkinson/meander_parkinson_237.jpg  \n",
      "  inflating: /content/drive/MyDrive/parkinson/parkinson_dataset/meander/parkinson/meander_parkinson_238.jpg  \n",
      "  inflating: /content/drive/MyDrive/parkinson/parkinson_dataset/meander/parkinson/meander_parkinson_239.jpg  \n",
      "  inflating: /content/drive/MyDrive/parkinson/parkinson_dataset/meander/parkinson/meander_parkinson_240.jpg  \n",
      "  inflating: /content/drive/MyDrive/parkinson/parkinson_dataset/meander/parkinson/meander_parkinson_241.jpg  \n",
      "  inflating: /content/drive/MyDrive/parkinson/parkinson_dataset/meander/parkinson/meander_parkinson_242.jpg  \n",
      "  inflating: /content/drive/MyDrive/parkinson/parkinson_dataset/meander/parkinson/meander_parkinson_243.jpg  \n",
      "  inflating: /content/drive/MyDrive/parkinson/parkinson_dataset/meander/parkinson/meander_parkinson_244.jpg  \n",
      "  inflating: /content/drive/MyDrive/parkinson/parkinson_dataset/meander/parkinson/meander_parkinson_245.jpg  \n",
      "  inflating: /content/drive/MyDrive/parkinson/parkinson_dataset/meander/parkinson/meander_parkinson_246.jpg  \n",
      "  inflating: /content/drive/MyDrive/parkinson/parkinson_dataset/meander/parkinson/meander_parkinson_247.jpg  \n",
      "  inflating: /content/drive/MyDrive/parkinson/parkinson_dataset/meander/parkinson/meander_parkinson_248.jpg  \n",
      "  inflating: /content/drive/MyDrive/parkinson/parkinson_dataset/meander/parkinson/meander_parkinson_249.jpg  \n",
      "  inflating: /content/drive/MyDrive/parkinson/parkinson_dataset/meander/parkinson/meander_parkinson_250.jpg  \n",
      "  inflating: /content/drive/MyDrive/parkinson/parkinson_dataset/meander/parkinson/meander_parkinson_251.jpg  \n",
      "  inflating: /content/drive/MyDrive/parkinson/parkinson_dataset/meander/parkinson/meander_parkinson_252.jpg  \n",
      "  inflating: /content/drive/MyDrive/parkinson/parkinson_dataset/meander/parkinson/meander_parkinson_253.jpg  \n",
      "  inflating: /content/drive/MyDrive/parkinson/parkinson_dataset/meander/parkinson/meander_parkinson_254.jpg  \n",
      "  inflating: /content/drive/MyDrive/parkinson/parkinson_dataset/meander/parkinson/meander_parkinson_255.jpg  \n",
      "  inflating: /content/drive/MyDrive/parkinson/parkinson_dataset/meander/parkinson/meander_parkinson_256.jpg  \n",
      "  inflating: /content/drive/MyDrive/parkinson/parkinson_dataset/meander/parkinson/meander_parkinson_257.jpg  \n",
      "  inflating: /content/drive/MyDrive/parkinson/parkinson_dataset/meander/parkinson/meander_parkinson_258.jpg  \n",
      "  inflating: /content/drive/MyDrive/parkinson/parkinson_dataset/meander/parkinson/meander_parkinson_259.jpg  \n",
      "  inflating: /content/drive/MyDrive/parkinson/parkinson_dataset/meander/parkinson/meander_parkinson_260.jpg  \n",
      "  inflating: /content/drive/MyDrive/parkinson/parkinson_dataset/meander/parkinson/meander_parkinson_261.jpg  \n",
      "  inflating: /content/drive/MyDrive/parkinson/parkinson_dataset/meander/parkinson/meander_parkinson_262.jpg  \n",
      "  inflating: /content/drive/MyDrive/parkinson/parkinson_dataset/meander/parkinson/meander_parkinson_263.jpg  \n",
      "  inflating: /content/drive/MyDrive/parkinson/parkinson_dataset/meander/parkinson/meander_parkinson_264.jpg  \n",
      "  inflating: /content/drive/MyDrive/parkinson/parkinson_dataset/meander/parkinson/meander_parkinson_265.jpg  \n",
      "  inflating: /content/drive/MyDrive/parkinson/parkinson_dataset/meander/parkinson/meander_parkinson_266.jpg  \n",
      "  inflating: /content/drive/MyDrive/parkinson/parkinson_dataset/meander/parkinson/meander_parkinson_267.jpg  \n",
      "  inflating: /content/drive/MyDrive/parkinson/parkinson_dataset/meander/parkinson/meander_parkinson_268.jpg  \n",
      "  inflating: /content/drive/MyDrive/parkinson/parkinson_dataset/meander/parkinson/meander_parkinson_269.jpg  \n",
      "  inflating: /content/drive/MyDrive/parkinson/parkinson_dataset/meander/parkinson/meander_parkinson_270.jpg  \n",
      "  inflating: /content/drive/MyDrive/parkinson/parkinson_dataset/meander/parkinson/meander_parkinson_271.jpg  \n",
      "  inflating: /content/drive/MyDrive/parkinson/parkinson_dataset/meander/parkinson/meander_parkinson_272.jpg  \n",
      "  inflating: /content/drive/MyDrive/parkinson/parkinson_dataset/meander/parkinson/meander_parkinson_273.jpg  \n",
      "  inflating: /content/drive/MyDrive/parkinson/parkinson_dataset/meander/parkinson/meander_parkinson_274.jpg  \n",
      "  inflating: /content/drive/MyDrive/parkinson/parkinson_dataset/meander/parkinson/meander_parkinson_275.jpg  \n",
      "  inflating: /content/drive/MyDrive/parkinson/parkinson_dataset/meander/parkinson/meander_parkinson_276.jpg  \n",
      "  inflating: /content/drive/MyDrive/parkinson/parkinson_dataset/meander/parkinson/meander_parkinson_277.jpg  \n",
      "  inflating: /content/drive/MyDrive/parkinson/parkinson_dataset/meander/parkinson/meander_parkinson_278.jpg  \n",
      "  inflating: /content/drive/MyDrive/parkinson/parkinson_dataset/meander/parkinson/meander_parkinson_279.jpg  \n",
      "  inflating: /content/drive/MyDrive/parkinson/parkinson_dataset/meander/parkinson/meander_parkinson_280.jpg  \n",
      "  inflating: /content/drive/MyDrive/parkinson/parkinson_dataset/meander/parkinson/meander_parkinson_281.jpg  \n",
      "  inflating: /content/drive/MyDrive/parkinson/parkinson_dataset/meander/parkinson/meander_parkinson_282.jpg  \n",
      "  inflating: /content/drive/MyDrive/parkinson/parkinson_dataset/meander/parkinson/meander_parkinson_283.jpg  \n",
      "  inflating: /content/drive/MyDrive/parkinson/parkinson_dataset/meander/parkinson/meander_parkinson_284.jpg  \n",
      "  inflating: /content/drive/MyDrive/parkinson/parkinson_dataset/meander/parkinson/meander_parkinson_285.jpg  \n",
      "  inflating: /content/drive/MyDrive/parkinson/parkinson_dataset/meander/parkinson/meander_parkinson_286.jpg  \n",
      "  inflating: /content/drive/MyDrive/parkinson/parkinson_dataset/meander/parkinson/meander_parkinson_287.jpg  \n",
      "  inflating: /content/drive/MyDrive/parkinson/parkinson_dataset/meander/parkinson/meander_parkinson_288.jpg  \n",
      "  inflating: /content/drive/MyDrive/parkinson/parkinson_dataset/meander/parkinson/meander_parkinson_289.jpg  \n",
      "  inflating: /content/drive/MyDrive/parkinson/parkinson_dataset/meander/parkinson/meander_parkinson_290.jpg  \n",
      "  inflating: /content/drive/MyDrive/parkinson/parkinson_dataset/meander/parkinson/meander_parkinson_291.jpg  \n",
      "  inflating: /content/drive/MyDrive/parkinson/parkinson_dataset/meander/parkinson/meander_parkinson_292.jpg  \n",
      "  inflating: /content/drive/MyDrive/parkinson/parkinson_dataset/meander/parkinson/meander_parkinson_293.jpg  \n",
      "  inflating: /content/drive/MyDrive/parkinson/parkinson_dataset/meander/parkinson/meander_parkinson_294.jpg  \n",
      "  inflating: /content/drive/MyDrive/parkinson/parkinson_dataset/meander/parkinson/meander_parkinson_295.jpg  \n",
      "  inflating: /content/drive/MyDrive/parkinson/parkinson_dataset/meander/parkinson/meander_parkinson_296.jpg  \n",
      "  inflating: /content/drive/MyDrive/parkinson/parkinson_dataset/meander/parkinson/meander_parkinson_297.jpg  \n",
      "   creating: /content/drive/MyDrive/parkinson/parkinson_dataset/spiral/\n",
      "   creating: /content/drive/MyDrive/parkinson/parkinson_dataset/spiral/healthy/\n",
      "  inflating: /content/drive/MyDrive/parkinson/parkinson_dataset/spiral/healthy/spiral_healthy_001.jpg  \n",
      "  inflating: /content/drive/MyDrive/parkinson/parkinson_dataset/spiral/healthy/spiral_healthy_002.jpg  \n",
      "  inflating: /content/drive/MyDrive/parkinson/parkinson_dataset/spiral/healthy/spiral_healthy_003.jpg  \n",
      "  inflating: /content/drive/MyDrive/parkinson/parkinson_dataset/spiral/healthy/spiral_healthy_004.jpg  \n",
      "  inflating: /content/drive/MyDrive/parkinson/parkinson_dataset/spiral/healthy/spiral_healthy_005.jpg  \n",
      "  inflating: /content/drive/MyDrive/parkinson/parkinson_dataset/spiral/healthy/spiral_healthy_006.jpg  \n",
      "  inflating: /content/drive/MyDrive/parkinson/parkinson_dataset/spiral/healthy/spiral_healthy_007.jpg  \n",
      "  inflating: /content/drive/MyDrive/parkinson/parkinson_dataset/spiral/healthy/spiral_healthy_008.jpg  \n",
      "  inflating: /content/drive/MyDrive/parkinson/parkinson_dataset/spiral/healthy/spiral_healthy_009.jpg  \n",
      "  inflating: /content/drive/MyDrive/parkinson/parkinson_dataset/spiral/healthy/spiral_healthy_010.jpg  \n",
      "  inflating: /content/drive/MyDrive/parkinson/parkinson_dataset/spiral/healthy/spiral_healthy_011.jpg  \n",
      "  inflating: /content/drive/MyDrive/parkinson/parkinson_dataset/spiral/healthy/spiral_healthy_012.jpg  \n",
      "  inflating: /content/drive/MyDrive/parkinson/parkinson_dataset/spiral/healthy/spiral_healthy_013.jpg  \n",
      "  inflating: /content/drive/MyDrive/parkinson/parkinson_dataset/spiral/healthy/spiral_healthy_014.jpg  \n",
      "  inflating: /content/drive/MyDrive/parkinson/parkinson_dataset/spiral/healthy/spiral_healthy_015.jpg  \n",
      "  inflating: /content/drive/MyDrive/parkinson/parkinson_dataset/spiral/healthy/spiral_healthy_016.jpg  \n",
      "  inflating: /content/drive/MyDrive/parkinson/parkinson_dataset/spiral/healthy/spiral_healthy_017.jpg  \n",
      "  inflating: /content/drive/MyDrive/parkinson/parkinson_dataset/spiral/healthy/spiral_healthy_018.jpg  \n",
      "  inflating: /content/drive/MyDrive/parkinson/parkinson_dataset/spiral/healthy/spiral_healthy_019.jpg  \n",
      "  inflating: /content/drive/MyDrive/parkinson/parkinson_dataset/spiral/healthy/spiral_healthy_020.jpg  \n",
      "  inflating: /content/drive/MyDrive/parkinson/parkinson_dataset/spiral/healthy/spiral_healthy_021.jpg  \n",
      "  inflating: /content/drive/MyDrive/parkinson/parkinson_dataset/spiral/healthy/spiral_healthy_022.jpg  \n",
      "  inflating: /content/drive/MyDrive/parkinson/parkinson_dataset/spiral/healthy/spiral_healthy_023.jpg  \n",
      "  inflating: /content/drive/MyDrive/parkinson/parkinson_dataset/spiral/healthy/spiral_healthy_024.jpg  \n",
      "  inflating: /content/drive/MyDrive/parkinson/parkinson_dataset/spiral/healthy/spiral_healthy_025.jpg  \n",
      "  inflating: /content/drive/MyDrive/parkinson/parkinson_dataset/spiral/healthy/spiral_healthy_026.jpg  \n",
      "  inflating: /content/drive/MyDrive/parkinson/parkinson_dataset/spiral/healthy/spiral_healthy_027.jpg  \n",
      "  inflating: /content/drive/MyDrive/parkinson/parkinson_dataset/spiral/healthy/spiral_healthy_028.jpg  \n",
      "  inflating: /content/drive/MyDrive/parkinson/parkinson_dataset/spiral/healthy/spiral_healthy_029.jpg  \n",
      "  inflating: /content/drive/MyDrive/parkinson/parkinson_dataset/spiral/healthy/spiral_healthy_030.jpg  \n",
      "  inflating: /content/drive/MyDrive/parkinson/parkinson_dataset/spiral/healthy/spiral_healthy_031.jpg  \n",
      "  inflating: /content/drive/MyDrive/parkinson/parkinson_dataset/spiral/healthy/spiral_healthy_032.jpg  \n",
      "  inflating: /content/drive/MyDrive/parkinson/parkinson_dataset/spiral/healthy/spiral_healthy_033.jpg  \n",
      "  inflating: /content/drive/MyDrive/parkinson/parkinson_dataset/spiral/healthy/spiral_healthy_034.jpg  \n",
      "  inflating: /content/drive/MyDrive/parkinson/parkinson_dataset/spiral/healthy/spiral_healthy_035.jpg  \n",
      "  inflating: /content/drive/MyDrive/parkinson/parkinson_dataset/spiral/healthy/spiral_healthy_036.jpg  \n",
      "  inflating: /content/drive/MyDrive/parkinson/parkinson_dataset/spiral/healthy/spiral_healthy_037.jpg  \n",
      "  inflating: /content/drive/MyDrive/parkinson/parkinson_dataset/spiral/healthy/spiral_healthy_038.jpg  \n",
      "  inflating: /content/drive/MyDrive/parkinson/parkinson_dataset/spiral/healthy/spiral_healthy_039.jpg  \n",
      "  inflating: /content/drive/MyDrive/parkinson/parkinson_dataset/spiral/healthy/spiral_healthy_040.jpg  \n",
      "  inflating: /content/drive/MyDrive/parkinson/parkinson_dataset/spiral/healthy/spiral_healthy_041.jpg  \n",
      "  inflating: /content/drive/MyDrive/parkinson/parkinson_dataset/spiral/healthy/spiral_healthy_042.jpg  \n",
      "  inflating: /content/drive/MyDrive/parkinson/parkinson_dataset/spiral/healthy/spiral_healthy_043.jpg  \n",
      "  inflating: /content/drive/MyDrive/parkinson/parkinson_dataset/spiral/healthy/spiral_healthy_044.jpg  \n",
      "  inflating: /content/drive/MyDrive/parkinson/parkinson_dataset/spiral/healthy/spiral_healthy_045.jpg  \n",
      "  inflating: /content/drive/MyDrive/parkinson/parkinson_dataset/spiral/healthy/spiral_healthy_046.jpg  \n",
      "  inflating: /content/drive/MyDrive/parkinson/parkinson_dataset/spiral/healthy/spiral_healthy_047.jpg  \n",
      "  inflating: /content/drive/MyDrive/parkinson/parkinson_dataset/spiral/healthy/spiral_healthy_048.jpg  \n",
      "  inflating: /content/drive/MyDrive/parkinson/parkinson_dataset/spiral/healthy/spiral_healthy_049.jpg  \n",
      "  inflating: /content/drive/MyDrive/parkinson/parkinson_dataset/spiral/healthy/spiral_healthy_050.jpg  \n",
      "  inflating: /content/drive/MyDrive/parkinson/parkinson_dataset/spiral/healthy/spiral_healthy_051.jpg  \n",
      "  inflating: /content/drive/MyDrive/parkinson/parkinson_dataset/spiral/healthy/spiral_healthy_052.jpg  \n",
      "  inflating: /content/drive/MyDrive/parkinson/parkinson_dataset/spiral/healthy/spiral_healthy_053.jpg  \n",
      "  inflating: /content/drive/MyDrive/parkinson/parkinson_dataset/spiral/healthy/spiral_healthy_054.jpg  \n",
      "  inflating: /content/drive/MyDrive/parkinson/parkinson_dataset/spiral/healthy/spiral_healthy_055.jpg  \n",
      "  inflating: /content/drive/MyDrive/parkinson/parkinson_dataset/spiral/healthy/spiral_healthy_056.jpg  \n",
      "  inflating: /content/drive/MyDrive/parkinson/parkinson_dataset/spiral/healthy/spiral_healthy_057.jpg  \n",
      "  inflating: /content/drive/MyDrive/parkinson/parkinson_dataset/spiral/healthy/spiral_healthy_058.jpg  \n",
      "  inflating: /content/drive/MyDrive/parkinson/parkinson_dataset/spiral/healthy/spiral_healthy_059.jpg  \n",
      "  inflating: /content/drive/MyDrive/parkinson/parkinson_dataset/spiral/healthy/spiral_healthy_060.jpg  \n",
      "  inflating: /content/drive/MyDrive/parkinson/parkinson_dataset/spiral/healthy/spiral_healthy_061.jpg  \n",
      "  inflating: /content/drive/MyDrive/parkinson/parkinson_dataset/spiral/healthy/spiral_healthy_062.jpg  \n",
      "  inflating: /content/drive/MyDrive/parkinson/parkinson_dataset/spiral/healthy/spiral_healthy_063.jpg  \n",
      "  inflating: /content/drive/MyDrive/parkinson/parkinson_dataset/spiral/healthy/spiral_healthy_064.jpg  \n",
      "  inflating: /content/drive/MyDrive/parkinson/parkinson_dataset/spiral/healthy/spiral_healthy_065.jpg  \n",
      "  inflating: /content/drive/MyDrive/parkinson/parkinson_dataset/spiral/healthy/spiral_healthy_066.jpg  \n",
      "  inflating: /content/drive/MyDrive/parkinson/parkinson_dataset/spiral/healthy/spiral_healthy_067.jpg  \n",
      "  inflating: /content/drive/MyDrive/parkinson/parkinson_dataset/spiral/healthy/spiral_healthy_068.jpg  \n",
      "  inflating: /content/drive/MyDrive/parkinson/parkinson_dataset/spiral/healthy/spiral_healthy_069.jpg  \n",
      "  inflating: /content/drive/MyDrive/parkinson/parkinson_dataset/spiral/healthy/spiral_healthy_070.jpg  \n",
      "  inflating: /content/drive/MyDrive/parkinson/parkinson_dataset/spiral/healthy/spiral_healthy_071.jpg  \n",
      "  inflating: /content/drive/MyDrive/parkinson/parkinson_dataset/spiral/healthy/spiral_healthy_072.jpg  \n",
      "  inflating: /content/drive/MyDrive/parkinson/parkinson_dataset/spiral/healthy/spiral_healthy_073.jpg  \n",
      "  inflating: /content/drive/MyDrive/parkinson/parkinson_dataset/spiral/healthy/spiral_healthy_074.jpg  \n",
      "  inflating: /content/drive/MyDrive/parkinson/parkinson_dataset/spiral/healthy/spiral_healthy_075.jpg  \n",
      "  inflating: /content/drive/MyDrive/parkinson/parkinson_dataset/spiral/healthy/spiral_healthy_076.jpg  \n",
      "  inflating: /content/drive/MyDrive/parkinson/parkinson_dataset/spiral/healthy/spiral_healthy_077.jpg  \n",
      "  inflating: /content/drive/MyDrive/parkinson/parkinson_dataset/spiral/healthy/spiral_healthy_078.jpg  \n",
      "  inflating: /content/drive/MyDrive/parkinson/parkinson_dataset/spiral/healthy/spiral_healthy_079.jpg  \n",
      "  inflating: /content/drive/MyDrive/parkinson/parkinson_dataset/spiral/healthy/spiral_healthy_080.jpg  \n",
      "  inflating: /content/drive/MyDrive/parkinson/parkinson_dataset/spiral/healthy/spiral_healthy_081.jpg  \n",
      "  inflating: /content/drive/MyDrive/parkinson/parkinson_dataset/spiral/healthy/spiral_healthy_082.jpg  \n",
      "  inflating: /content/drive/MyDrive/parkinson/parkinson_dataset/spiral/healthy/spiral_healthy_083.jpg  \n",
      "  inflating: /content/drive/MyDrive/parkinson/parkinson_dataset/spiral/healthy/spiral_healthy_084.jpg  \n",
      "  inflating: /content/drive/MyDrive/parkinson/parkinson_dataset/spiral/healthy/spiral_healthy_085.jpg  \n",
      "  inflating: /content/drive/MyDrive/parkinson/parkinson_dataset/spiral/healthy/spiral_healthy_086.jpg  \n",
      "  inflating: /content/drive/MyDrive/parkinson/parkinson_dataset/spiral/healthy/spiral_healthy_087.jpg  \n",
      "  inflating: /content/drive/MyDrive/parkinson/parkinson_dataset/spiral/healthy/spiral_healthy_088.jpg  \n",
      "  inflating: /content/drive/MyDrive/parkinson/parkinson_dataset/spiral/healthy/spiral_healthy_089.jpg  \n",
      "  inflating: /content/drive/MyDrive/parkinson/parkinson_dataset/spiral/healthy/spiral_healthy_090.jpg  \n",
      "  inflating: /content/drive/MyDrive/parkinson/parkinson_dataset/spiral/healthy/spiral_healthy_091.jpg  \n",
      "  inflating: /content/drive/MyDrive/parkinson/parkinson_dataset/spiral/healthy/spiral_healthy_092.jpg  \n",
      "  inflating: /content/drive/MyDrive/parkinson/parkinson_dataset/spiral/healthy/spiral_healthy_093.jpg  \n",
      "  inflating: /content/drive/MyDrive/parkinson/parkinson_dataset/spiral/healthy/spiral_healthy_094.jpg  \n",
      "  inflating: /content/drive/MyDrive/parkinson/parkinson_dataset/spiral/healthy/spiral_healthy_095.jpg  \n",
      "  inflating: /content/drive/MyDrive/parkinson/parkinson_dataset/spiral/healthy/spiral_healthy_096.jpg  \n",
      "  inflating: /content/drive/MyDrive/parkinson/parkinson_dataset/spiral/healthy/spiral_healthy_097.jpg  \n",
      "  inflating: /content/drive/MyDrive/parkinson/parkinson_dataset/spiral/healthy/spiral_healthy_098.jpg  \n",
      "  inflating: /content/drive/MyDrive/parkinson/parkinson_dataset/spiral/healthy/spiral_healthy_099.jpg  \n",
      "  inflating: /content/drive/MyDrive/parkinson/parkinson_dataset/spiral/healthy/spiral_healthy_100.jpg  \n",
      "  inflating: /content/drive/MyDrive/parkinson/parkinson_dataset/spiral/healthy/spiral_healthy_101.jpg  \n",
      "  inflating: /content/drive/MyDrive/parkinson/parkinson_dataset/spiral/healthy/spiral_healthy_102.jpg  \n",
      "  inflating: /content/drive/MyDrive/parkinson/parkinson_dataset/spiral/healthy/spiral_healthy_103.jpg  \n",
      "  inflating: /content/drive/MyDrive/parkinson/parkinson_dataset/spiral/healthy/spiral_healthy_104.jpg  \n",
      "  inflating: /content/drive/MyDrive/parkinson/parkinson_dataset/spiral/healthy/spiral_healthy_105.jpg  \n",
      "  inflating: /content/drive/MyDrive/parkinson/parkinson_dataset/spiral/healthy/spiral_healthy_106.jpg  \n",
      "  inflating: /content/drive/MyDrive/parkinson/parkinson_dataset/spiral/healthy/spiral_healthy_107.jpg  \n",
      "  inflating: /content/drive/MyDrive/parkinson/parkinson_dataset/spiral/healthy/spiral_healthy_108.jpg  \n",
      "  inflating: /content/drive/MyDrive/parkinson/parkinson_dataset/spiral/healthy/spiral_healthy_109.jpg  \n",
      "  inflating: /content/drive/MyDrive/parkinson/parkinson_dataset/spiral/healthy/spiral_healthy_110.jpg  \n",
      "  inflating: /content/drive/MyDrive/parkinson/parkinson_dataset/spiral/healthy/spiral_healthy_111.jpg  \n",
      "  inflating: /content/drive/MyDrive/parkinson/parkinson_dataset/spiral/healthy/spiral_healthy_112.jpg  \n",
      "  inflating: /content/drive/MyDrive/parkinson/parkinson_dataset/spiral/healthy/spiral_healthy_113.jpg  \n",
      "  inflating: /content/drive/MyDrive/parkinson/parkinson_dataset/spiral/healthy/spiral_healthy_114.jpg  \n",
      "  inflating: /content/drive/MyDrive/parkinson/parkinson_dataset/spiral/healthy/spiral_healthy_115.jpg  \n",
      "  inflating: /content/drive/MyDrive/parkinson/parkinson_dataset/spiral/healthy/spiral_healthy_116.jpg  \n",
      "  inflating: /content/drive/MyDrive/parkinson/parkinson_dataset/spiral/healthy/spiral_healthy_117.jpg  \n",
      "  inflating: /content/drive/MyDrive/parkinson/parkinson_dataset/spiral/healthy/spiral_healthy_118.jpg  \n",
      "  inflating: /content/drive/MyDrive/parkinson/parkinson_dataset/spiral/healthy/spiral_healthy_119.jpg  \n",
      "  inflating: /content/drive/MyDrive/parkinson/parkinson_dataset/spiral/healthy/spiral_healthy_120.jpg  \n",
      "  inflating: /content/drive/MyDrive/parkinson/parkinson_dataset/spiral/healthy/spiral_healthy_121.jpg  \n",
      "  inflating: /content/drive/MyDrive/parkinson/parkinson_dataset/spiral/healthy/spiral_healthy_122.jpg  \n",
      "  inflating: /content/drive/MyDrive/parkinson/parkinson_dataset/spiral/healthy/spiral_healthy_123.jpg  \n",
      "   creating: /content/drive/MyDrive/parkinson/parkinson_dataset/spiral/parkinson/\n",
      "  inflating: /content/drive/MyDrive/parkinson/parkinson_dataset/spiral/parkinson/spiral_parkinson_001.jpg  \n",
      "  inflating: /content/drive/MyDrive/parkinson/parkinson_dataset/spiral/parkinson/spiral_parkinson_002.jpg  \n",
      "  inflating: /content/drive/MyDrive/parkinson/parkinson_dataset/spiral/parkinson/spiral_parkinson_003.jpg  \n",
      "  inflating: /content/drive/MyDrive/parkinson/parkinson_dataset/spiral/parkinson/spiral_parkinson_004.jpg  \n",
      "  inflating: /content/drive/MyDrive/parkinson/parkinson_dataset/spiral/parkinson/spiral_parkinson_005.jpg  \n",
      "  inflating: /content/drive/MyDrive/parkinson/parkinson_dataset/spiral/parkinson/spiral_parkinson_006.jpg  \n",
      "  inflating: /content/drive/MyDrive/parkinson/parkinson_dataset/spiral/parkinson/spiral_parkinson_007.jpg  \n",
      "  inflating: /content/drive/MyDrive/parkinson/parkinson_dataset/spiral/parkinson/spiral_parkinson_008.jpg  \n",
      "  inflating: /content/drive/MyDrive/parkinson/parkinson_dataset/spiral/parkinson/spiral_parkinson_009.jpg  \n",
      "  inflating: /content/drive/MyDrive/parkinson/parkinson_dataset/spiral/parkinson/spiral_parkinson_010.jpg  \n",
      "  inflating: /content/drive/MyDrive/parkinson/parkinson_dataset/spiral/parkinson/spiral_parkinson_011.jpg  \n",
      "  inflating: /content/drive/MyDrive/parkinson/parkinson_dataset/spiral/parkinson/spiral_parkinson_012.jpg  \n",
      "  inflating: /content/drive/MyDrive/parkinson/parkinson_dataset/spiral/parkinson/spiral_parkinson_013.jpg  \n",
      "  inflating: /content/drive/MyDrive/parkinson/parkinson_dataset/spiral/parkinson/spiral_parkinson_014.jpg  \n",
      "  inflating: /content/drive/MyDrive/parkinson/parkinson_dataset/spiral/parkinson/spiral_parkinson_015.jpg  \n",
      "  inflating: /content/drive/MyDrive/parkinson/parkinson_dataset/spiral/parkinson/spiral_parkinson_016.jpg  \n",
      "  inflating: /content/drive/MyDrive/parkinson/parkinson_dataset/spiral/parkinson/spiral_parkinson_017.jpg  \n",
      "  inflating: /content/drive/MyDrive/parkinson/parkinson_dataset/spiral/parkinson/spiral_parkinson_018.jpg  \n",
      "  inflating: /content/drive/MyDrive/parkinson/parkinson_dataset/spiral/parkinson/spiral_parkinson_019.jpg  \n",
      "  inflating: /content/drive/MyDrive/parkinson/parkinson_dataset/spiral/parkinson/spiral_parkinson_020.jpg  \n",
      "  inflating: /content/drive/MyDrive/parkinson/parkinson_dataset/spiral/parkinson/spiral_parkinson_021.jpg  \n",
      "  inflating: /content/drive/MyDrive/parkinson/parkinson_dataset/spiral/parkinson/spiral_parkinson_022.jpg  \n",
      "  inflating: /content/drive/MyDrive/parkinson/parkinson_dataset/spiral/parkinson/spiral_parkinson_023.jpg  \n",
      "  inflating: /content/drive/MyDrive/parkinson/parkinson_dataset/spiral/parkinson/spiral_parkinson_024.jpg  \n",
      "  inflating: /content/drive/MyDrive/parkinson/parkinson_dataset/spiral/parkinson/spiral_parkinson_025.jpg  \n",
      "  inflating: /content/drive/MyDrive/parkinson/parkinson_dataset/spiral/parkinson/spiral_parkinson_026.jpg  \n",
      "  inflating: /content/drive/MyDrive/parkinson/parkinson_dataset/spiral/parkinson/spiral_parkinson_027.jpg  \n",
      "  inflating: /content/drive/MyDrive/parkinson/parkinson_dataset/spiral/parkinson/spiral_parkinson_028.jpg  \n",
      "  inflating: /content/drive/MyDrive/parkinson/parkinson_dataset/spiral/parkinson/spiral_parkinson_029.jpg  \n",
      "  inflating: /content/drive/MyDrive/parkinson/parkinson_dataset/spiral/parkinson/spiral_parkinson_030.jpg  \n",
      "  inflating: /content/drive/MyDrive/parkinson/parkinson_dataset/spiral/parkinson/spiral_parkinson_031.jpg  \n",
      "  inflating: /content/drive/MyDrive/parkinson/parkinson_dataset/spiral/parkinson/spiral_parkinson_032.jpg  \n",
      "  inflating: /content/drive/MyDrive/parkinson/parkinson_dataset/spiral/parkinson/spiral_parkinson_033.jpg  \n",
      "  inflating: /content/drive/MyDrive/parkinson/parkinson_dataset/spiral/parkinson/spiral_parkinson_034.jpg  \n",
      "  inflating: /content/drive/MyDrive/parkinson/parkinson_dataset/spiral/parkinson/spiral_parkinson_035.jpg  \n",
      "  inflating: /content/drive/MyDrive/parkinson/parkinson_dataset/spiral/parkinson/spiral_parkinson_036.jpg  \n",
      "  inflating: /content/drive/MyDrive/parkinson/parkinson_dataset/spiral/parkinson/spiral_parkinson_037.jpg  \n",
      "  inflating: /content/drive/MyDrive/parkinson/parkinson_dataset/spiral/parkinson/spiral_parkinson_038.jpg  \n",
      "  inflating: /content/drive/MyDrive/parkinson/parkinson_dataset/spiral/parkinson/spiral_parkinson_039.jpg  \n",
      "  inflating: /content/drive/MyDrive/parkinson/parkinson_dataset/spiral/parkinson/spiral_parkinson_040.jpg  \n",
      "  inflating: /content/drive/MyDrive/parkinson/parkinson_dataset/spiral/parkinson/spiral_parkinson_041.jpg  \n",
      "  inflating: /content/drive/MyDrive/parkinson/parkinson_dataset/spiral/parkinson/spiral_parkinson_042.jpg  \n",
      "  inflating: /content/drive/MyDrive/parkinson/parkinson_dataset/spiral/parkinson/spiral_parkinson_043.jpg  \n",
      "  inflating: /content/drive/MyDrive/parkinson/parkinson_dataset/spiral/parkinson/spiral_parkinson_044.jpg  \n",
      "  inflating: /content/drive/MyDrive/parkinson/parkinson_dataset/spiral/parkinson/spiral_parkinson_045.jpg  \n",
      "  inflating: /content/drive/MyDrive/parkinson/parkinson_dataset/spiral/parkinson/spiral_parkinson_046.jpg  \n",
      "  inflating: /content/drive/MyDrive/parkinson/parkinson_dataset/spiral/parkinson/spiral_parkinson_047.jpg  \n",
      "  inflating: /content/drive/MyDrive/parkinson/parkinson_dataset/spiral/parkinson/spiral_parkinson_048.jpg  \n",
      "  inflating: /content/drive/MyDrive/parkinson/parkinson_dataset/spiral/parkinson/spiral_parkinson_049.jpg  \n",
      "  inflating: /content/drive/MyDrive/parkinson/parkinson_dataset/spiral/parkinson/spiral_parkinson_050.jpg  \n",
      "  inflating: /content/drive/MyDrive/parkinson/parkinson_dataset/spiral/parkinson/spiral_parkinson_051.jpg  \n",
      "  inflating: /content/drive/MyDrive/parkinson/parkinson_dataset/spiral/parkinson/spiral_parkinson_052.jpg  \n",
      "  inflating: /content/drive/MyDrive/parkinson/parkinson_dataset/spiral/parkinson/spiral_parkinson_053.jpg  \n",
      "  inflating: /content/drive/MyDrive/parkinson/parkinson_dataset/spiral/parkinson/spiral_parkinson_054.jpg  \n",
      "  inflating: /content/drive/MyDrive/parkinson/parkinson_dataset/spiral/parkinson/spiral_parkinson_055.jpg  \n",
      "  inflating: /content/drive/MyDrive/parkinson/parkinson_dataset/spiral/parkinson/spiral_parkinson_056.jpg  \n",
      "  inflating: /content/drive/MyDrive/parkinson/parkinson_dataset/spiral/parkinson/spiral_parkinson_057.jpg  \n",
      "  inflating: /content/drive/MyDrive/parkinson/parkinson_dataset/spiral/parkinson/spiral_parkinson_058.jpg  \n",
      "  inflating: /content/drive/MyDrive/parkinson/parkinson_dataset/spiral/parkinson/spiral_parkinson_059.jpg  \n",
      "  inflating: /content/drive/MyDrive/parkinson/parkinson_dataset/spiral/parkinson/spiral_parkinson_060.jpg  \n",
      "  inflating: /content/drive/MyDrive/parkinson/parkinson_dataset/spiral/parkinson/spiral_parkinson_061.jpg  \n",
      "  inflating: /content/drive/MyDrive/parkinson/parkinson_dataset/spiral/parkinson/spiral_parkinson_062.jpg  \n",
      "  inflating: /content/drive/MyDrive/parkinson/parkinson_dataset/spiral/parkinson/spiral_parkinson_063.jpg  \n",
      "  inflating: /content/drive/MyDrive/parkinson/parkinson_dataset/spiral/parkinson/spiral_parkinson_064.jpg  \n",
      "  inflating: /content/drive/MyDrive/parkinson/parkinson_dataset/spiral/parkinson/spiral_parkinson_065.jpg  \n",
      "  inflating: /content/drive/MyDrive/parkinson/parkinson_dataset/spiral/parkinson/spiral_parkinson_066.jpg  \n",
      "  inflating: /content/drive/MyDrive/parkinson/parkinson_dataset/spiral/parkinson/spiral_parkinson_067.jpg  \n",
      "  inflating: /content/drive/MyDrive/parkinson/parkinson_dataset/spiral/parkinson/spiral_parkinson_068.jpg  \n",
      "  inflating: /content/drive/MyDrive/parkinson/parkinson_dataset/spiral/parkinson/spiral_parkinson_069.jpg  \n",
      "  inflating: /content/drive/MyDrive/parkinson/parkinson_dataset/spiral/parkinson/spiral_parkinson_070.jpg  \n",
      "  inflating: /content/drive/MyDrive/parkinson/parkinson_dataset/spiral/parkinson/spiral_parkinson_071.jpg  \n",
      "  inflating: /content/drive/MyDrive/parkinson/parkinson_dataset/spiral/parkinson/spiral_parkinson_072.jpg  \n",
      "  inflating: /content/drive/MyDrive/parkinson/parkinson_dataset/spiral/parkinson/spiral_parkinson_073.jpg  \n",
      "  inflating: /content/drive/MyDrive/parkinson/parkinson_dataset/spiral/parkinson/spiral_parkinson_074.jpg  \n",
      "  inflating: /content/drive/MyDrive/parkinson/parkinson_dataset/spiral/parkinson/spiral_parkinson_075.jpg  \n",
      "  inflating: /content/drive/MyDrive/parkinson/parkinson_dataset/spiral/parkinson/spiral_parkinson_076.jpg  \n",
      "  inflating: /content/drive/MyDrive/parkinson/parkinson_dataset/spiral/parkinson/spiral_parkinson_077.jpg  \n",
      "  inflating: /content/drive/MyDrive/parkinson/parkinson_dataset/spiral/parkinson/spiral_parkinson_078.jpg  \n",
      "  inflating: /content/drive/MyDrive/parkinson/parkinson_dataset/spiral/parkinson/spiral_parkinson_079.jpg  \n",
      "  inflating: /content/drive/MyDrive/parkinson/parkinson_dataset/spiral/parkinson/spiral_parkinson_080.jpg  \n",
      "  inflating: /content/drive/MyDrive/parkinson/parkinson_dataset/spiral/parkinson/spiral_parkinson_081.jpg  \n",
      "  inflating: /content/drive/MyDrive/parkinson/parkinson_dataset/spiral/parkinson/spiral_parkinson_082.jpg  \n",
      "  inflating: /content/drive/MyDrive/parkinson/parkinson_dataset/spiral/parkinson/spiral_parkinson_083.jpg  \n",
      "  inflating: /content/drive/MyDrive/parkinson/parkinson_dataset/spiral/parkinson/spiral_parkinson_084.jpg  \n",
      "  inflating: /content/drive/MyDrive/parkinson/parkinson_dataset/spiral/parkinson/spiral_parkinson_085.jpg  \n",
      "  inflating: /content/drive/MyDrive/parkinson/parkinson_dataset/spiral/parkinson/spiral_parkinson_086.jpg  \n",
      "  inflating: /content/drive/MyDrive/parkinson/parkinson_dataset/spiral/parkinson/spiral_parkinson_087.jpg  \n",
      "  inflating: /content/drive/MyDrive/parkinson/parkinson_dataset/spiral/parkinson/spiral_parkinson_088.jpg  \n",
      "  inflating: /content/drive/MyDrive/parkinson/parkinson_dataset/spiral/parkinson/spiral_parkinson_089.jpg  \n",
      "  inflating: /content/drive/MyDrive/parkinson/parkinson_dataset/spiral/parkinson/spiral_parkinson_090.jpg  \n",
      "  inflating: /content/drive/MyDrive/parkinson/parkinson_dataset/spiral/parkinson/spiral_parkinson_091.jpg  \n",
      "  inflating: /content/drive/MyDrive/parkinson/parkinson_dataset/spiral/parkinson/spiral_parkinson_092.jpg  \n",
      "  inflating: /content/drive/MyDrive/parkinson/parkinson_dataset/spiral/parkinson/spiral_parkinson_093.jpg  \n",
      "  inflating: /content/drive/MyDrive/parkinson/parkinson_dataset/spiral/parkinson/spiral_parkinson_094.jpg  \n",
      "  inflating: /content/drive/MyDrive/parkinson/parkinson_dataset/spiral/parkinson/spiral_parkinson_095.jpg  \n",
      "  inflating: /content/drive/MyDrive/parkinson/parkinson_dataset/spiral/parkinson/spiral_parkinson_096.jpg  \n",
      "  inflating: /content/drive/MyDrive/parkinson/parkinson_dataset/spiral/parkinson/spiral_parkinson_097.jpg  \n",
      "  inflating: /content/drive/MyDrive/parkinson/parkinson_dataset/spiral/parkinson/spiral_parkinson_098.jpg  \n",
      "  inflating: /content/drive/MyDrive/parkinson/parkinson_dataset/spiral/parkinson/spiral_parkinson_099.jpg  \n",
      "  inflating: /content/drive/MyDrive/parkinson/parkinson_dataset/spiral/parkinson/spiral_parkinson_100.jpg  \n",
      "  inflating: /content/drive/MyDrive/parkinson/parkinson_dataset/spiral/parkinson/spiral_parkinson_101.jpg  \n",
      "  inflating: /content/drive/MyDrive/parkinson/parkinson_dataset/spiral/parkinson/spiral_parkinson_102.jpg  \n",
      "  inflating: /content/drive/MyDrive/parkinson/parkinson_dataset/spiral/parkinson/spiral_parkinson_103.jpg  \n",
      "  inflating: /content/drive/MyDrive/parkinson/parkinson_dataset/spiral/parkinson/spiral_parkinson_104.jpg  \n",
      "  inflating: /content/drive/MyDrive/parkinson/parkinson_dataset/spiral/parkinson/spiral_parkinson_105.jpg  \n",
      "  inflating: /content/drive/MyDrive/parkinson/parkinson_dataset/spiral/parkinson/spiral_parkinson_106.jpg  \n",
      "  inflating: /content/drive/MyDrive/parkinson/parkinson_dataset/spiral/parkinson/spiral_parkinson_107.jpg  \n",
      "  inflating: /content/drive/MyDrive/parkinson/parkinson_dataset/spiral/parkinson/spiral_parkinson_108.jpg  \n",
      "  inflating: /content/drive/MyDrive/parkinson/parkinson_dataset/spiral/parkinson/spiral_parkinson_109.jpg  \n",
      "  inflating: /content/drive/MyDrive/parkinson/parkinson_dataset/spiral/parkinson/spiral_parkinson_110.jpg  \n",
      "  inflating: /content/drive/MyDrive/parkinson/parkinson_dataset/spiral/parkinson/spiral_parkinson_111.jpg  \n",
      "  inflating: /content/drive/MyDrive/parkinson/parkinson_dataset/spiral/parkinson/spiral_parkinson_112.jpg  \n",
      "  inflating: /content/drive/MyDrive/parkinson/parkinson_dataset/spiral/parkinson/spiral_parkinson_113.jpg  \n",
      "  inflating: /content/drive/MyDrive/parkinson/parkinson_dataset/spiral/parkinson/spiral_parkinson_114.jpg  \n",
      "  inflating: /content/drive/MyDrive/parkinson/parkinson_dataset/spiral/parkinson/spiral_parkinson_115.jpg  \n",
      "  inflating: /content/drive/MyDrive/parkinson/parkinson_dataset/spiral/parkinson/spiral_parkinson_116.jpg  \n",
      "  inflating: /content/drive/MyDrive/parkinson/parkinson_dataset/spiral/parkinson/spiral_parkinson_117.jpg  \n",
      "  inflating: /content/drive/MyDrive/parkinson/parkinson_dataset/spiral/parkinson/spiral_parkinson_118.jpg  \n",
      "  inflating: /content/drive/MyDrive/parkinson/parkinson_dataset/spiral/parkinson/spiral_parkinson_119.jpg  \n",
      "  inflating: /content/drive/MyDrive/parkinson/parkinson_dataset/spiral/parkinson/spiral_parkinson_120.jpg  \n",
      "  inflating: /content/drive/MyDrive/parkinson/parkinson_dataset/spiral/parkinson/spiral_parkinson_121.jpg  \n",
      "  inflating: /content/drive/MyDrive/parkinson/parkinson_dataset/spiral/parkinson/spiral_parkinson_122.jpg  \n",
      "  inflating: /content/drive/MyDrive/parkinson/parkinson_dataset/spiral/parkinson/spiral_parkinson_123.jpg  \n",
      "  inflating: /content/drive/MyDrive/parkinson/parkinson_dataset/spiral/parkinson/spiral_parkinson_124.jpg  \n",
      "  inflating: /content/drive/MyDrive/parkinson/parkinson_dataset/spiral/parkinson/spiral_parkinson_125.jpg  \n",
      "  inflating: /content/drive/MyDrive/parkinson/parkinson_dataset/spiral/parkinson/spiral_parkinson_126.jpg  \n",
      "  inflating: /content/drive/MyDrive/parkinson/parkinson_dataset/spiral/parkinson/spiral_parkinson_127.jpg  \n",
      "  inflating: /content/drive/MyDrive/parkinson/parkinson_dataset/spiral/parkinson/spiral_parkinson_128.jpg  \n",
      "  inflating: /content/drive/MyDrive/parkinson/parkinson_dataset/spiral/parkinson/spiral_parkinson_129.jpg  \n",
      "  inflating: /content/drive/MyDrive/parkinson/parkinson_dataset/spiral/parkinson/spiral_parkinson_130.jpg  \n",
      "  inflating: /content/drive/MyDrive/parkinson/parkinson_dataset/spiral/parkinson/spiral_parkinson_131.jpg  \n",
      "  inflating: /content/drive/MyDrive/parkinson/parkinson_dataset/spiral/parkinson/spiral_parkinson_132.jpg  \n",
      "  inflating: /content/drive/MyDrive/parkinson/parkinson_dataset/spiral/parkinson/spiral_parkinson_133.jpg  \n",
      "  inflating: /content/drive/MyDrive/parkinson/parkinson_dataset/spiral/parkinson/spiral_parkinson_134.jpg  \n",
      "  inflating: /content/drive/MyDrive/parkinson/parkinson_dataset/spiral/parkinson/spiral_parkinson_135.jpg  \n",
      "  inflating: /content/drive/MyDrive/parkinson/parkinson_dataset/spiral/parkinson/spiral_parkinson_136.jpg  \n",
      "  inflating: /content/drive/MyDrive/parkinson/parkinson_dataset/spiral/parkinson/spiral_parkinson_137.jpg  \n",
      "  inflating: /content/drive/MyDrive/parkinson/parkinson_dataset/spiral/parkinson/spiral_parkinson_138.jpg  \n",
      "  inflating: /content/drive/MyDrive/parkinson/parkinson_dataset/spiral/parkinson/spiral_parkinson_139.jpg  \n",
      "  inflating: /content/drive/MyDrive/parkinson/parkinson_dataset/spiral/parkinson/spiral_parkinson_140.jpg  \n",
      "  inflating: /content/drive/MyDrive/parkinson/parkinson_dataset/spiral/parkinson/spiral_parkinson_141.jpg  \n",
      "  inflating: /content/drive/MyDrive/parkinson/parkinson_dataset/spiral/parkinson/spiral_parkinson_142.jpg  \n",
      "  inflating: /content/drive/MyDrive/parkinson/parkinson_dataset/spiral/parkinson/spiral_parkinson_143.jpg  \n",
      "  inflating: /content/drive/MyDrive/parkinson/parkinson_dataset/spiral/parkinson/spiral_parkinson_144.jpg  \n",
      "  inflating: /content/drive/MyDrive/parkinson/parkinson_dataset/spiral/parkinson/spiral_parkinson_145.jpg  \n",
      "  inflating: /content/drive/MyDrive/parkinson/parkinson_dataset/spiral/parkinson/spiral_parkinson_146.jpg  \n",
      "  inflating: /content/drive/MyDrive/parkinson/parkinson_dataset/spiral/parkinson/spiral_parkinson_147.jpg  \n",
      "  inflating: /content/drive/MyDrive/parkinson/parkinson_dataset/spiral/parkinson/spiral_parkinson_148.jpg  \n",
      "  inflating: /content/drive/MyDrive/parkinson/parkinson_dataset/spiral/parkinson/spiral_parkinson_149.jpg  \n",
      "  inflating: /content/drive/MyDrive/parkinson/parkinson_dataset/spiral/parkinson/spiral_parkinson_150.jpg  \n",
      "  inflating: /content/drive/MyDrive/parkinson/parkinson_dataset/spiral/parkinson/spiral_parkinson_151.jpg  \n",
      "  inflating: /content/drive/MyDrive/parkinson/parkinson_dataset/spiral/parkinson/spiral_parkinson_152.jpg  \n",
      "  inflating: /content/drive/MyDrive/parkinson/parkinson_dataset/spiral/parkinson/spiral_parkinson_153.jpg  \n",
      "  inflating: /content/drive/MyDrive/parkinson/parkinson_dataset/spiral/parkinson/spiral_parkinson_154.jpg  \n",
      "  inflating: /content/drive/MyDrive/parkinson/parkinson_dataset/spiral/parkinson/spiral_parkinson_155.jpg  \n",
      "  inflating: /content/drive/MyDrive/parkinson/parkinson_dataset/spiral/parkinson/spiral_parkinson_156.jpg  \n",
      "  inflating: /content/drive/MyDrive/parkinson/parkinson_dataset/spiral/parkinson/spiral_parkinson_157.jpg  \n",
      "  inflating: /content/drive/MyDrive/parkinson/parkinson_dataset/spiral/parkinson/spiral_parkinson_158.jpg  \n",
      "  inflating: /content/drive/MyDrive/parkinson/parkinson_dataset/spiral/parkinson/spiral_parkinson_159.jpg  \n",
      "  inflating: /content/drive/MyDrive/parkinson/parkinson_dataset/spiral/parkinson/spiral_parkinson_160.jpg  \n",
      "  inflating: /content/drive/MyDrive/parkinson/parkinson_dataset/spiral/parkinson/spiral_parkinson_161.jpg  \n",
      "  inflating: /content/drive/MyDrive/parkinson/parkinson_dataset/spiral/parkinson/spiral_parkinson_162.jpg  \n",
      "  inflating: /content/drive/MyDrive/parkinson/parkinson_dataset/spiral/parkinson/spiral_parkinson_163.jpg  \n",
      "  inflating: /content/drive/MyDrive/parkinson/parkinson_dataset/spiral/parkinson/spiral_parkinson_164.jpg  \n",
      "  inflating: /content/drive/MyDrive/parkinson/parkinson_dataset/spiral/parkinson/spiral_parkinson_165.jpg  \n",
      "  inflating: /content/drive/MyDrive/parkinson/parkinson_dataset/spiral/parkinson/spiral_parkinson_166.jpg  \n",
      "  inflating: /content/drive/MyDrive/parkinson/parkinson_dataset/spiral/parkinson/spiral_parkinson_167.jpg  \n",
      "  inflating: /content/drive/MyDrive/parkinson/parkinson_dataset/spiral/parkinson/spiral_parkinson_168.jpg  \n",
      "  inflating: /content/drive/MyDrive/parkinson/parkinson_dataset/spiral/parkinson/spiral_parkinson_169.jpg  \n",
      "  inflating: /content/drive/MyDrive/parkinson/parkinson_dataset/spiral/parkinson/spiral_parkinson_170.jpg  \n",
      "  inflating: /content/drive/MyDrive/parkinson/parkinson_dataset/spiral/parkinson/spiral_parkinson_171.jpg  \n",
      "  inflating: /content/drive/MyDrive/parkinson/parkinson_dataset/spiral/parkinson/spiral_parkinson_172.jpg  \n",
      "  inflating: /content/drive/MyDrive/parkinson/parkinson_dataset/spiral/parkinson/spiral_parkinson_173.jpg  \n",
      "  inflating: /content/drive/MyDrive/parkinson/parkinson_dataset/spiral/parkinson/spiral_parkinson_174.jpg  \n",
      "  inflating: /content/drive/MyDrive/parkinson/parkinson_dataset/spiral/parkinson/spiral_parkinson_175.jpg  \n",
      "  inflating: /content/drive/MyDrive/parkinson/parkinson_dataset/spiral/parkinson/spiral_parkinson_176.jpg  \n",
      "  inflating: /content/drive/MyDrive/parkinson/parkinson_dataset/spiral/parkinson/spiral_parkinson_177.jpg  \n",
      "  inflating: /content/drive/MyDrive/parkinson/parkinson_dataset/spiral/parkinson/spiral_parkinson_178.jpg  \n",
      "  inflating: /content/drive/MyDrive/parkinson/parkinson_dataset/spiral/parkinson/spiral_parkinson_179.jpg  \n",
      "  inflating: /content/drive/MyDrive/parkinson/parkinson_dataset/spiral/parkinson/spiral_parkinson_180.jpg  \n",
      "  inflating: /content/drive/MyDrive/parkinson/parkinson_dataset/spiral/parkinson/spiral_parkinson_181.jpg  \n",
      "  inflating: /content/drive/MyDrive/parkinson/parkinson_dataset/spiral/parkinson/spiral_parkinson_182.jpg  \n",
      "  inflating: /content/drive/MyDrive/parkinson/parkinson_dataset/spiral/parkinson/spiral_parkinson_183.jpg  \n",
      "  inflating: /content/drive/MyDrive/parkinson/parkinson_dataset/spiral/parkinson/spiral_parkinson_184.jpg  \n",
      "  inflating: /content/drive/MyDrive/parkinson/parkinson_dataset/spiral/parkinson/spiral_parkinson_185.jpg  \n",
      "  inflating: /content/drive/MyDrive/parkinson/parkinson_dataset/spiral/parkinson/spiral_parkinson_186.jpg  \n",
      "  inflating: /content/drive/MyDrive/parkinson/parkinson_dataset/spiral/parkinson/spiral_parkinson_187.jpg  \n",
      "  inflating: /content/drive/MyDrive/parkinson/parkinson_dataset/spiral/parkinson/spiral_parkinson_188.jpg  \n",
      "  inflating: /content/drive/MyDrive/parkinson/parkinson_dataset/spiral/parkinson/spiral_parkinson_189.jpg  \n",
      "  inflating: /content/drive/MyDrive/parkinson/parkinson_dataset/spiral/parkinson/spiral_parkinson_190.jpg  \n",
      "  inflating: /content/drive/MyDrive/parkinson/parkinson_dataset/spiral/parkinson/spiral_parkinson_191.jpg  \n",
      "  inflating: /content/drive/MyDrive/parkinson/parkinson_dataset/spiral/parkinson/spiral_parkinson_192.jpg  \n",
      "  inflating: /content/drive/MyDrive/parkinson/parkinson_dataset/spiral/parkinson/spiral_parkinson_193.jpg  \n",
      "  inflating: /content/drive/MyDrive/parkinson/parkinson_dataset/spiral/parkinson/spiral_parkinson_194.jpg  \n",
      "  inflating: /content/drive/MyDrive/parkinson/parkinson_dataset/spiral/parkinson/spiral_parkinson_195.jpg  \n",
      "  inflating: /content/drive/MyDrive/parkinson/parkinson_dataset/spiral/parkinson/spiral_parkinson_196.jpg  \n",
      "  inflating: /content/drive/MyDrive/parkinson/parkinson_dataset/spiral/parkinson/spiral_parkinson_197.jpg  \n",
      "  inflating: /content/drive/MyDrive/parkinson/parkinson_dataset/spiral/parkinson/spiral_parkinson_198.jpg  \n",
      "  inflating: /content/drive/MyDrive/parkinson/parkinson_dataset/spiral/parkinson/spiral_parkinson_199.jpg  \n",
      "  inflating: /content/drive/MyDrive/parkinson/parkinson_dataset/spiral/parkinson/spiral_parkinson_200.jpg  \n",
      "  inflating: /content/drive/MyDrive/parkinson/parkinson_dataset/spiral/parkinson/spiral_parkinson_201.jpg  \n",
      "  inflating: /content/drive/MyDrive/parkinson/parkinson_dataset/spiral/parkinson/spiral_parkinson_202.jpg  \n",
      "  inflating: /content/drive/MyDrive/parkinson/parkinson_dataset/spiral/parkinson/spiral_parkinson_203.jpg  \n",
      "  inflating: /content/drive/MyDrive/parkinson/parkinson_dataset/spiral/parkinson/spiral_parkinson_204.jpg  \n",
      "  inflating: /content/drive/MyDrive/parkinson/parkinson_dataset/spiral/parkinson/spiral_parkinson_205.jpg  \n",
      "  inflating: /content/drive/MyDrive/parkinson/parkinson_dataset/spiral/parkinson/spiral_parkinson_206.jpg  \n",
      "  inflating: /content/drive/MyDrive/parkinson/parkinson_dataset/spiral/parkinson/spiral_parkinson_207.jpg  \n",
      "  inflating: /content/drive/MyDrive/parkinson/parkinson_dataset/spiral/parkinson/spiral_parkinson_208.jpg  \n",
      "  inflating: /content/drive/MyDrive/parkinson/parkinson_dataset/spiral/parkinson/spiral_parkinson_209.jpg  \n",
      "  inflating: /content/drive/MyDrive/parkinson/parkinson_dataset/spiral/parkinson/spiral_parkinson_210.jpg  \n",
      "  inflating: /content/drive/MyDrive/parkinson/parkinson_dataset/spiral/parkinson/spiral_parkinson_211.jpg  \n",
      "  inflating: /content/drive/MyDrive/parkinson/parkinson_dataset/spiral/parkinson/spiral_parkinson_212.jpg  \n",
      "  inflating: /content/drive/MyDrive/parkinson/parkinson_dataset/spiral/parkinson/spiral_parkinson_213.jpg  \n",
      "  inflating: /content/drive/MyDrive/parkinson/parkinson_dataset/spiral/parkinson/spiral_parkinson_214.jpg  \n",
      "  inflating: /content/drive/MyDrive/parkinson/parkinson_dataset/spiral/parkinson/spiral_parkinson_215.jpg  \n",
      "  inflating: /content/drive/MyDrive/parkinson/parkinson_dataset/spiral/parkinson/spiral_parkinson_216.jpg  \n",
      "  inflating: /content/drive/MyDrive/parkinson/parkinson_dataset/spiral/parkinson/spiral_parkinson_217.jpg  \n",
      "  inflating: /content/drive/MyDrive/parkinson/parkinson_dataset/spiral/parkinson/spiral_parkinson_218.jpg  \n",
      "  inflating: /content/drive/MyDrive/parkinson/parkinson_dataset/spiral/parkinson/spiral_parkinson_219.jpg  \n",
      "  inflating: /content/drive/MyDrive/parkinson/parkinson_dataset/spiral/parkinson/spiral_parkinson_220.jpg  \n",
      "  inflating: /content/drive/MyDrive/parkinson/parkinson_dataset/spiral/parkinson/spiral_parkinson_221.jpg  \n",
      "  inflating: /content/drive/MyDrive/parkinson/parkinson_dataset/spiral/parkinson/spiral_parkinson_222.jpg  \n",
      "  inflating: /content/drive/MyDrive/parkinson/parkinson_dataset/spiral/parkinson/spiral_parkinson_223.jpg  \n",
      "  inflating: /content/drive/MyDrive/parkinson/parkinson_dataset/spiral/parkinson/spiral_parkinson_224.jpg  \n",
      "  inflating: /content/drive/MyDrive/parkinson/parkinson_dataset/spiral/parkinson/spiral_parkinson_225.jpg  \n",
      "  inflating: /content/drive/MyDrive/parkinson/parkinson_dataset/spiral/parkinson/spiral_parkinson_226.jpg  \n",
      "  inflating: /content/drive/MyDrive/parkinson/parkinson_dataset/spiral/parkinson/spiral_parkinson_227.jpg  \n",
      "  inflating: /content/drive/MyDrive/parkinson/parkinson_dataset/spiral/parkinson/spiral_parkinson_228.jpg  \n",
      "  inflating: /content/drive/MyDrive/parkinson/parkinson_dataset/spiral/parkinson/spiral_parkinson_229.jpg  \n",
      "  inflating: /content/drive/MyDrive/parkinson/parkinson_dataset/spiral/parkinson/spiral_parkinson_230.jpg  \n",
      "  inflating: /content/drive/MyDrive/parkinson/parkinson_dataset/spiral/parkinson/spiral_parkinson_231.jpg  \n",
      "  inflating: /content/drive/MyDrive/parkinson/parkinson_dataset/spiral/parkinson/spiral_parkinson_232.jpg  \n",
      "  inflating: /content/drive/MyDrive/parkinson/parkinson_dataset/spiral/parkinson/spiral_parkinson_233.jpg  \n",
      "  inflating: /content/drive/MyDrive/parkinson/parkinson_dataset/spiral/parkinson/spiral_parkinson_234.jpg  \n",
      "  inflating: /content/drive/MyDrive/parkinson/parkinson_dataset/spiral/parkinson/spiral_parkinson_235.jpg  \n",
      "  inflating: /content/drive/MyDrive/parkinson/parkinson_dataset/spiral/parkinson/spiral_parkinson_236.jpg  \n",
      "  inflating: /content/drive/MyDrive/parkinson/parkinson_dataset/spiral/parkinson/spiral_parkinson_237.jpg  \n",
      "  inflating: /content/drive/MyDrive/parkinson/parkinson_dataset/spiral/parkinson/spiral_parkinson_238.jpg  \n",
      "  inflating: /content/drive/MyDrive/parkinson/parkinson_dataset/spiral/parkinson/spiral_parkinson_239.jpg  \n",
      "  inflating: /content/drive/MyDrive/parkinson/parkinson_dataset/spiral/parkinson/spiral_parkinson_240.jpg  \n",
      "  inflating: /content/drive/MyDrive/parkinson/parkinson_dataset/spiral/parkinson/spiral_parkinson_241.jpg  \n",
      "  inflating: /content/drive/MyDrive/parkinson/parkinson_dataset/spiral/parkinson/spiral_parkinson_242.jpg  \n",
      "  inflating: /content/drive/MyDrive/parkinson/parkinson_dataset/spiral/parkinson/spiral_parkinson_243.jpg  \n",
      "  inflating: /content/drive/MyDrive/parkinson/parkinson_dataset/spiral/parkinson/spiral_parkinson_244.jpg  \n",
      "  inflating: /content/drive/MyDrive/parkinson/parkinson_dataset/spiral/parkinson/spiral_parkinson_245.jpg  \n",
      "  inflating: /content/drive/MyDrive/parkinson/parkinson_dataset/spiral/parkinson/spiral_parkinson_246.jpg  \n",
      "  inflating: /content/drive/MyDrive/parkinson/parkinson_dataset/spiral/parkinson/spiral_parkinson_247.jpg  \n",
      "  inflating: /content/drive/MyDrive/parkinson/parkinson_dataset/spiral/parkinson/spiral_parkinson_248.jpg  \n",
      "  inflating: /content/drive/MyDrive/parkinson/parkinson_dataset/spiral/parkinson/spiral_parkinson_249.jpg  \n",
      "  inflating: /content/drive/MyDrive/parkinson/parkinson_dataset/spiral/parkinson/spiral_parkinson_250.jpg  \n",
      "  inflating: /content/drive/MyDrive/parkinson/parkinson_dataset/spiral/parkinson/spiral_parkinson_251.jpg  \n",
      "  inflating: /content/drive/MyDrive/parkinson/parkinson_dataset/spiral/parkinson/spiral_parkinson_252.jpg  \n",
      "  inflating: /content/drive/MyDrive/parkinson/parkinson_dataset/spiral/parkinson/spiral_parkinson_253.jpg  \n",
      "  inflating: /content/drive/MyDrive/parkinson/parkinson_dataset/spiral/parkinson/spiral_parkinson_254.jpg  \n",
      "  inflating: /content/drive/MyDrive/parkinson/parkinson_dataset/spiral/parkinson/spiral_parkinson_255.jpg  \n",
      "  inflating: /content/drive/MyDrive/parkinson/parkinson_dataset/spiral/parkinson/spiral_parkinson_256.jpg  \n",
      "  inflating: /content/drive/MyDrive/parkinson/parkinson_dataset/spiral/parkinson/spiral_parkinson_257.jpg  \n",
      "  inflating: /content/drive/MyDrive/parkinson/parkinson_dataset/spiral/parkinson/spiral_parkinson_258.jpg  \n",
      "  inflating: /content/drive/MyDrive/parkinson/parkinson_dataset/spiral/parkinson/spiral_parkinson_259.jpg  \n",
      "  inflating: /content/drive/MyDrive/parkinson/parkinson_dataset/spiral/parkinson/spiral_parkinson_260.jpg  \n",
      "  inflating: /content/drive/MyDrive/parkinson/parkinson_dataset/spiral/parkinson/spiral_parkinson_261.jpg  \n",
      "  inflating: /content/drive/MyDrive/parkinson/parkinson_dataset/spiral/parkinson/spiral_parkinson_262.jpg  \n",
      "  inflating: /content/drive/MyDrive/parkinson/parkinson_dataset/spiral/parkinson/spiral_parkinson_263.jpg  \n",
      "  inflating: /content/drive/MyDrive/parkinson/parkinson_dataset/spiral/parkinson/spiral_parkinson_264.jpg  \n",
      "  inflating: /content/drive/MyDrive/parkinson/parkinson_dataset/spiral/parkinson/spiral_parkinson_265.jpg  \n",
      "  inflating: /content/drive/MyDrive/parkinson/parkinson_dataset/spiral/parkinson/spiral_parkinson_266.jpg  \n",
      "  inflating: /content/drive/MyDrive/parkinson/parkinson_dataset/spiral/parkinson/spiral_parkinson_267.jpg  \n",
      "  inflating: /content/drive/MyDrive/parkinson/parkinson_dataset/spiral/parkinson/spiral_parkinson_268.jpg  \n",
      "  inflating: /content/drive/MyDrive/parkinson/parkinson_dataset/spiral/parkinson/spiral_parkinson_269.jpg  \n",
      "  inflating: /content/drive/MyDrive/parkinson/parkinson_dataset/spiral/parkinson/spiral_parkinson_270.jpg  \n",
      "  inflating: /content/drive/MyDrive/parkinson/parkinson_dataset/spiral/parkinson/spiral_parkinson_271.jpg  \n",
      "  inflating: /content/drive/MyDrive/parkinson/parkinson_dataset/spiral/parkinson/spiral_parkinson_272.jpg  \n",
      "  inflating: /content/drive/MyDrive/parkinson/parkinson_dataset/spiral/parkinson/spiral_parkinson_273.jpg  \n",
      "  inflating: /content/drive/MyDrive/parkinson/parkinson_dataset/spiral/parkinson/spiral_parkinson_274.jpg  \n",
      "  inflating: /content/drive/MyDrive/parkinson/parkinson_dataset/spiral/parkinson/spiral_parkinson_275.jpg  \n",
      "  inflating: /content/drive/MyDrive/parkinson/parkinson_dataset/spiral/parkinson/spiral_parkinson_276.jpg  \n",
      "  inflating: /content/drive/MyDrive/parkinson/parkinson_dataset/spiral/parkinson/spiral_parkinson_277.jpg  \n",
      "  inflating: /content/drive/MyDrive/parkinson/parkinson_dataset/spiral/parkinson/spiral_parkinson_278.jpg  \n",
      "  inflating: /content/drive/MyDrive/parkinson/parkinson_dataset/spiral/parkinson/spiral_parkinson_279.jpg  \n",
      "  inflating: /content/drive/MyDrive/parkinson/parkinson_dataset/spiral/parkinson/spiral_parkinson_280.jpg  \n",
      "  inflating: /content/drive/MyDrive/parkinson/parkinson_dataset/spiral/parkinson/spiral_parkinson_281.jpg  \n",
      "  inflating: /content/drive/MyDrive/parkinson/parkinson_dataset/spiral/parkinson/spiral_parkinson_282.jpg  \n",
      "  inflating: /content/drive/MyDrive/parkinson/parkinson_dataset/spiral/parkinson/spiral_parkinson_283.jpg  \n",
      "  inflating: /content/drive/MyDrive/parkinson/parkinson_dataset/spiral/parkinson/spiral_parkinson_284.jpg  \n",
      "  inflating: /content/drive/MyDrive/parkinson/parkinson_dataset/spiral/parkinson/spiral_parkinson_285.jpg  \n",
      "  inflating: /content/drive/MyDrive/parkinson/parkinson_dataset/spiral/parkinson/spiral_parkinson_286.jpg  \n",
      "  inflating: /content/drive/MyDrive/parkinson/parkinson_dataset/spiral/parkinson/spiral_parkinson_287.jpg  \n",
      "  inflating: /content/drive/MyDrive/parkinson/parkinson_dataset/spiral/parkinson/spiral_parkinson_288.jpg  \n",
      "  inflating: /content/drive/MyDrive/parkinson/parkinson_dataset/spiral/parkinson/spiral_parkinson_289.jpg  \n",
      "  inflating: /content/drive/MyDrive/parkinson/parkinson_dataset/spiral/parkinson/spiral_parkinson_290.jpg  \n",
      "  inflating: /content/drive/MyDrive/parkinson/parkinson_dataset/spiral/parkinson/spiral_parkinson_291.jpg  \n",
      "  inflating: /content/drive/MyDrive/parkinson/parkinson_dataset/spiral/parkinson/spiral_parkinson_292.jpg  \n",
      "  inflating: /content/drive/MyDrive/parkinson/parkinson_dataset/spiral/parkinson/spiral_parkinson_293.jpg  \n",
      "  inflating: /content/drive/MyDrive/parkinson/parkinson_dataset/spiral/parkinson/spiral_parkinson_294.jpg  \n",
      "  inflating: /content/drive/MyDrive/parkinson/parkinson_dataset/spiral/parkinson/spiral_parkinson_295.jpg  \n",
      "  inflating: /content/drive/MyDrive/parkinson/parkinson_dataset/spiral/parkinson/spiral_parkinson_296.jpg  \n",
      "  inflating: /content/drive/MyDrive/parkinson/parkinson_dataset/spiral/parkinson/spiral_parkinson_297.jpg  \n",
      "  inflating: /content/drive/MyDrive/parkinson/parkinson_dataset/spiral/parkinson/spiral_parkinson_298.jpg  \n",
      "  inflating: /content/drive/MyDrive/parkinson/parkinson_dataset/spiral/parkinson/spiral_parkinson_299.jpg  \n",
      "  inflating: /content/drive/MyDrive/parkinson/parkinson_dataset/spiral/parkinson/spiral_parkinson_300.jpg  \n",
      "  inflating: /content/drive/MyDrive/parkinson/parkinson_dataset/spiral/parkinson/spiral_parkinson_301.jpg  \n",
      "  inflating: /content/drive/MyDrive/parkinson/parkinson_dataset/spiral/parkinson/spiral_parkinson_302.jpg  \n",
      "  inflating: /content/drive/MyDrive/parkinson/parkinson_dataset/spiral/parkinson/spiral_parkinson_303.jpg  \n",
      "  inflating: /content/drive/MyDrive/parkinson/parkinson_dataset/spiral/parkinson/spiral_parkinson_304.jpg  \n",
      "  inflating: /content/drive/MyDrive/parkinson/parkinson_dataset/spiral/parkinson/spiral_parkinson_305.jpg  \n",
      "  inflating: /content/drive/MyDrive/parkinson/parkinson_dataset/spiral/parkinson/spiral_parkinson_306.jpg  \n",
      "  inflating: /content/drive/MyDrive/parkinson/parkinson_dataset/spiral/parkinson/spiral_parkinson_307.jpg  \n",
      "  inflating: /content/drive/MyDrive/parkinson/parkinson_dataset/spiral/parkinson/spiral_parkinson_308.jpg  \n",
      "  inflating: /content/drive/MyDrive/parkinson/parkinson_dataset/spiral/parkinson/spiral_parkinson_309.jpg  \n",
      "  inflating: /content/drive/MyDrive/parkinson/parkinson_dataset/spiral/parkinson/spiral_parkinson_310.jpg  \n",
      "  inflating: /content/drive/MyDrive/parkinson/parkinson_dataset/spiral/parkinson/spiral_parkinson_311.jpg  \n",
      "  inflating: /content/drive/MyDrive/parkinson/parkinson_dataset/spiral/parkinson/spiral_parkinson_312.jpg  \n",
      "  inflating: /content/drive/MyDrive/parkinson/parkinson_dataset/spiral/parkinson/spiral_parkinson_313.jpg  \n",
      "  inflating: /content/drive/MyDrive/parkinson/parkinson_dataset/spiral/parkinson/spiral_parkinson_314.jpg  \n",
      "  inflating: /content/drive/MyDrive/parkinson/parkinson_dataset/spiral/parkinson/spiral_parkinson_315.jpg  \n",
      "  inflating: /content/drive/MyDrive/parkinson/parkinson_dataset/spiral/parkinson/spiral_parkinson_316.jpg  \n",
      "  inflating: /content/drive/MyDrive/parkinson/parkinson_dataset/spiral/parkinson/spiral_parkinson_317.jpg  \n",
      "  inflating: /content/drive/MyDrive/parkinson/parkinson_dataset/spiral/parkinson/spiral_parkinson_318.jpg  \n",
      "  inflating: /content/drive/MyDrive/parkinson/parkinson_dataset/spiral/parkinson/spiral_parkinson_319.jpg  \n",
      "  inflating: /content/drive/MyDrive/parkinson/parkinson_dataset/spiral/parkinson/spiral_parkinson_320.jpg  \n",
      "  inflating: /content/drive/MyDrive/parkinson/parkinson_dataset/spiral/parkinson/spiral_parkinson_321.jpg  \n",
      "  inflating: /content/drive/MyDrive/parkinson/parkinson_dataset/spiral/parkinson/spiral_parkinson_322.jpg  \n",
      "  inflating: /content/drive/MyDrive/parkinson/parkinson_dataset/spiral/parkinson/spiral_parkinson_323.jpg  \n",
      "  inflating: /content/drive/MyDrive/parkinson/parkinson_dataset/spiral/parkinson/spiral_parkinson_324.jpg  \n",
      "  inflating: /content/drive/MyDrive/parkinson/parkinson_dataset/spiral/parkinson/spiral_parkinson_325.jpg  \n",
      "  inflating: /content/drive/MyDrive/parkinson/parkinson_dataset/spiral/parkinson/spiral_parkinson_326.jpg  \n",
      "  inflating: /content/drive/MyDrive/parkinson/parkinson_dataset/spiral/parkinson/spiral_parkinson_327.jpg  \n",
      "  inflating: /content/drive/MyDrive/parkinson/parkinson_dataset/spiral/parkinson/spiral_parkinson_328.jpg  \n",
      "  inflating: /content/drive/MyDrive/parkinson/parkinson_dataset/spiral/parkinson/spiral_parkinson_329.jpg  \n",
      "  inflating: /content/drive/MyDrive/parkinson/parkinson_dataset/spiral/parkinson/spiral_parkinson_330.jpg  \n",
      "  inflating: /content/drive/MyDrive/parkinson/parkinson_dataset/spiral/parkinson/spiral_parkinson_331.jpg  \n",
      "  inflating: /content/drive/MyDrive/parkinson/parkinson_dataset/spiral/parkinson/spiral_parkinson_332.jpg  \n",
      "  inflating: /content/drive/MyDrive/parkinson/parkinson_dataset/spiral/parkinson/spiral_parkinson_333.jpg  \n",
      "  inflating: /content/drive/MyDrive/parkinson/parkinson_dataset/spiral/parkinson/spiral_parkinson_334.jpg  \n",
      "  inflating: /content/drive/MyDrive/parkinson/parkinson_dataset/spiral/parkinson/spiral_parkinson_335.jpg  \n",
      "  inflating: /content/drive/MyDrive/parkinson/parkinson_dataset/spiral/parkinson/spiral_parkinson_336.jpg  \n",
      "  inflating: /content/drive/MyDrive/parkinson/parkinson_dataset/spiral/parkinson/spiral_parkinson_337.jpg  \n",
      "  inflating: /content/drive/MyDrive/parkinson/parkinson_dataset/spiral/parkinson/spiral_parkinson_338.jpg  \n",
      "  inflating: /content/drive/MyDrive/parkinson/parkinson_dataset/spiral/parkinson/spiral_parkinson_339.jpg  \n",
      "  inflating: /content/drive/MyDrive/parkinson/parkinson_dataset/spiral/parkinson/spiral_parkinson_340.jpg  \n",
      "  inflating: /content/drive/MyDrive/parkinson/parkinson_dataset/spiral/parkinson/spiral_parkinson_341.jpg  \n",
      "  inflating: /content/drive/MyDrive/parkinson/parkinson_dataset/spiral/parkinson/spiral_parkinson_342.jpg  \n",
      "  inflating: /content/drive/MyDrive/parkinson/parkinson_dataset/spiral/parkinson/spiral_parkinson_343.jpg  \n",
      "  inflating: /content/drive/MyDrive/parkinson/parkinson_dataset/spiral/parkinson/spiral_parkinson_344.jpg  \n",
      "  inflating: /content/drive/MyDrive/parkinson/parkinson_dataset/spiral/parkinson/spiral_parkinson_345.jpg  \n",
      "  inflating: /content/drive/MyDrive/parkinson/parkinson_dataset/spiral/parkinson/spiral_parkinson_346.jpg  \n",
      "  inflating: /content/drive/MyDrive/parkinson/parkinson_dataset/spiral/parkinson/spiral_parkinson_347.jpg  \n",
      "   creating: /content/drive/MyDrive/parkinson/parkinson_dataset/wave/\n",
      "   creating: /content/drive/MyDrive/parkinson/parkinson_dataset/wave/healthy/\n",
      "  inflating: /content/drive/MyDrive/parkinson/parkinson_dataset/wave/healthy/wave_healthy_001.jpg  \n",
      "  inflating: /content/drive/MyDrive/parkinson/parkinson_dataset/wave/healthy/wave_healthy_002.jpg  \n",
      "  inflating: /content/drive/MyDrive/parkinson/parkinson_dataset/wave/healthy/wave_healthy_003.jpg  \n",
      "  inflating: /content/drive/MyDrive/parkinson/parkinson_dataset/wave/healthy/wave_healthy_004.jpg  \n",
      "  inflating: /content/drive/MyDrive/parkinson/parkinson_dataset/wave/healthy/wave_healthy_005.jpg  \n",
      "  inflating: /content/drive/MyDrive/parkinson/parkinson_dataset/wave/healthy/wave_healthy_006.jpg  \n",
      "  inflating: /content/drive/MyDrive/parkinson/parkinson_dataset/wave/healthy/wave_healthy_007.jpg  \n",
      "  inflating: /content/drive/MyDrive/parkinson/parkinson_dataset/wave/healthy/wave_healthy_008.jpg  \n",
      "  inflating: /content/drive/MyDrive/parkinson/parkinson_dataset/wave/healthy/wave_healthy_009.jpg  \n",
      "  inflating: /content/drive/MyDrive/parkinson/parkinson_dataset/wave/healthy/wave_healthy_010.jpg  \n",
      "  inflating: /content/drive/MyDrive/parkinson/parkinson_dataset/wave/healthy/wave_healthy_011.jpg  \n",
      "  inflating: /content/drive/MyDrive/parkinson/parkinson_dataset/wave/healthy/wave_healthy_012.jpg  \n",
      "  inflating: /content/drive/MyDrive/parkinson/parkinson_dataset/wave/healthy/wave_healthy_013.jpg  \n",
      "  inflating: /content/drive/MyDrive/parkinson/parkinson_dataset/wave/healthy/wave_healthy_014.jpg  \n",
      "  inflating: /content/drive/MyDrive/parkinson/parkinson_dataset/wave/healthy/wave_healthy_015.jpg  \n",
      "  inflating: /content/drive/MyDrive/parkinson/parkinson_dataset/wave/healthy/wave_healthy_016.jpg  \n",
      "  inflating: /content/drive/MyDrive/parkinson/parkinson_dataset/wave/healthy/wave_healthy_017.jpg  \n",
      "  inflating: /content/drive/MyDrive/parkinson/parkinson_dataset/wave/healthy/wave_healthy_018.jpg  \n",
      "  inflating: /content/drive/MyDrive/parkinson/parkinson_dataset/wave/healthy/wave_healthy_019.jpg  \n",
      "  inflating: /content/drive/MyDrive/parkinson/parkinson_dataset/wave/healthy/wave_healthy_020.jpg  \n",
      "  inflating: /content/drive/MyDrive/parkinson/parkinson_dataset/wave/healthy/wave_healthy_021.jpg  \n",
      "  inflating: /content/drive/MyDrive/parkinson/parkinson_dataset/wave/healthy/wave_healthy_022.jpg  \n",
      "  inflating: /content/drive/MyDrive/parkinson/parkinson_dataset/wave/healthy/wave_healthy_023.jpg  \n",
      "  inflating: /content/drive/MyDrive/parkinson/parkinson_dataset/wave/healthy/wave_healthy_024.jpg  \n",
      "  inflating: /content/drive/MyDrive/parkinson/parkinson_dataset/wave/healthy/wave_healthy_025.jpg  \n",
      "  inflating: /content/drive/MyDrive/parkinson/parkinson_dataset/wave/healthy/wave_healthy_026.jpg  \n",
      "  inflating: /content/drive/MyDrive/parkinson/parkinson_dataset/wave/healthy/wave_healthy_027.jpg  \n",
      "  inflating: /content/drive/MyDrive/parkinson/parkinson_dataset/wave/healthy/wave_healthy_028.jpg  \n",
      "  inflating: /content/drive/MyDrive/parkinson/parkinson_dataset/wave/healthy/wave_healthy_029.jpg  \n",
      "  inflating: /content/drive/MyDrive/parkinson/parkinson_dataset/wave/healthy/wave_healthy_030.jpg  \n",
      "  inflating: /content/drive/MyDrive/parkinson/parkinson_dataset/wave/healthy/wave_healthy_031.jpg  \n",
      "  inflating: /content/drive/MyDrive/parkinson/parkinson_dataset/wave/healthy/wave_healthy_032.jpg  \n",
      "  inflating: /content/drive/MyDrive/parkinson/parkinson_dataset/wave/healthy/wave_healthy_033.jpg  \n",
      "  inflating: /content/drive/MyDrive/parkinson/parkinson_dataset/wave/healthy/wave_healthy_034.jpg  \n",
      "  inflating: /content/drive/MyDrive/parkinson/parkinson_dataset/wave/healthy/wave_healthy_035.jpg  \n",
      "  inflating: /content/drive/MyDrive/parkinson/parkinson_dataset/wave/healthy/wave_healthy_036.jpg  \n",
      "  inflating: /content/drive/MyDrive/parkinson/parkinson_dataset/wave/healthy/wave_healthy_037.jpg  \n",
      "  inflating: /content/drive/MyDrive/parkinson/parkinson_dataset/wave/healthy/wave_healthy_038.jpg  \n",
      "  inflating: /content/drive/MyDrive/parkinson/parkinson_dataset/wave/healthy/wave_healthy_039.jpg  \n",
      "  inflating: /content/drive/MyDrive/parkinson/parkinson_dataset/wave/healthy/wave_healthy_040.jpg  \n",
      "  inflating: /content/drive/MyDrive/parkinson/parkinson_dataset/wave/healthy/wave_healthy_041.jpg  \n",
      "  inflating: /content/drive/MyDrive/parkinson/parkinson_dataset/wave/healthy/wave_healthy_042.jpg  \n",
      "  inflating: /content/drive/MyDrive/parkinson/parkinson_dataset/wave/healthy/wave_healthy_043.jpg  \n",
      "  inflating: /content/drive/MyDrive/parkinson/parkinson_dataset/wave/healthy/wave_healthy_044.jpg  \n",
      "  inflating: /content/drive/MyDrive/parkinson/parkinson_dataset/wave/healthy/wave_healthy_045.jpg  \n",
      "  inflating: /content/drive/MyDrive/parkinson/parkinson_dataset/wave/healthy/wave_healthy_046.jpg  \n",
      "  inflating: /content/drive/MyDrive/parkinson/parkinson_dataset/wave/healthy/wave_healthy_047.jpg  \n",
      "  inflating: /content/drive/MyDrive/parkinson/parkinson_dataset/wave/healthy/wave_healthy_048.jpg  \n",
      "  inflating: /content/drive/MyDrive/parkinson/parkinson_dataset/wave/healthy/wave_healthy_049.jpg  \n",
      "  inflating: /content/drive/MyDrive/parkinson/parkinson_dataset/wave/healthy/wave_healthy_050.jpg  \n",
      "  inflating: /content/drive/MyDrive/parkinson/parkinson_dataset/wave/healthy/wave_healthy_051.jpg  \n",
      "   creating: /content/drive/MyDrive/parkinson/parkinson_dataset/wave/parkinson/\n",
      "  inflating: /content/drive/MyDrive/parkinson/parkinson_dataset/wave/parkinson/wave_parkinson_001.jpg  \n",
      "  inflating: /content/drive/MyDrive/parkinson/parkinson_dataset/wave/parkinson/wave_parkinson_002.jpg  \n",
      "  inflating: /content/drive/MyDrive/parkinson/parkinson_dataset/wave/parkinson/wave_parkinson_003.jpg  \n",
      "  inflating: /content/drive/MyDrive/parkinson/parkinson_dataset/wave/parkinson/wave_parkinson_004.jpg  \n",
      "  inflating: /content/drive/MyDrive/parkinson/parkinson_dataset/wave/parkinson/wave_parkinson_005.jpg  \n",
      "  inflating: /content/drive/MyDrive/parkinson/parkinson_dataset/wave/parkinson/wave_parkinson_006.jpg  \n",
      "  inflating: /content/drive/MyDrive/parkinson/parkinson_dataset/wave/parkinson/wave_parkinson_007.jpg  \n",
      "  inflating: /content/drive/MyDrive/parkinson/parkinson_dataset/wave/parkinson/wave_parkinson_008.jpg  \n",
      "  inflating: /content/drive/MyDrive/parkinson/parkinson_dataset/wave/parkinson/wave_parkinson_009.jpg  \n",
      "  inflating: /content/drive/MyDrive/parkinson/parkinson_dataset/wave/parkinson/wave_parkinson_010.jpg  \n",
      "  inflating: /content/drive/MyDrive/parkinson/parkinson_dataset/wave/parkinson/wave_parkinson_011.jpg  \n",
      "  inflating: /content/drive/MyDrive/parkinson/parkinson_dataset/wave/parkinson/wave_parkinson_012.jpg  \n",
      "  inflating: /content/drive/MyDrive/parkinson/parkinson_dataset/wave/parkinson/wave_parkinson_013.jpg  \n",
      "  inflating: /content/drive/MyDrive/parkinson/parkinson_dataset/wave/parkinson/wave_parkinson_014.jpg  \n",
      "  inflating: /content/drive/MyDrive/parkinson/parkinson_dataset/wave/parkinson/wave_parkinson_015.jpg  \n",
      "  inflating: /content/drive/MyDrive/parkinson/parkinson_dataset/wave/parkinson/wave_parkinson_016.jpg  \n",
      "  inflating: /content/drive/MyDrive/parkinson/parkinson_dataset/wave/parkinson/wave_parkinson_017.jpg  \n",
      "  inflating: /content/drive/MyDrive/parkinson/parkinson_dataset/wave/parkinson/wave_parkinson_018.jpg  \n",
      "  inflating: /content/drive/MyDrive/parkinson/parkinson_dataset/wave/parkinson/wave_parkinson_019.jpg  \n",
      "  inflating: /content/drive/MyDrive/parkinson/parkinson_dataset/wave/parkinson/wave_parkinson_020.jpg  \n",
      "  inflating: /content/drive/MyDrive/parkinson/parkinson_dataset/wave/parkinson/wave_parkinson_021.jpg  \n",
      "  inflating: /content/drive/MyDrive/parkinson/parkinson_dataset/wave/parkinson/wave_parkinson_022.jpg  \n",
      "  inflating: /content/drive/MyDrive/parkinson/parkinson_dataset/wave/parkinson/wave_parkinson_023.jpg  \n",
      "  inflating: /content/drive/MyDrive/parkinson/parkinson_dataset/wave/parkinson/wave_parkinson_024.jpg  \n",
      "  inflating: /content/drive/MyDrive/parkinson/parkinson_dataset/wave/parkinson/wave_parkinson_025.jpg  \n",
      "  inflating: /content/drive/MyDrive/parkinson/parkinson_dataset/wave/parkinson/wave_parkinson_026.jpg  \n",
      "  inflating: /content/drive/MyDrive/parkinson/parkinson_dataset/wave/parkinson/wave_parkinson_027.jpg  \n",
      "  inflating: /content/drive/MyDrive/parkinson/parkinson_dataset/wave/parkinson/wave_parkinson_028.jpg  \n",
      "  inflating: /content/drive/MyDrive/parkinson/parkinson_dataset/wave/parkinson/wave_parkinson_029.jpg  \n",
      "  inflating: /content/drive/MyDrive/parkinson/parkinson_dataset/wave/parkinson/wave_parkinson_030.jpg  \n",
      "  inflating: /content/drive/MyDrive/parkinson/parkinson_dataset/wave/parkinson/wave_parkinson_031.jpg  \n",
      "  inflating: /content/drive/MyDrive/parkinson/parkinson_dataset/wave/parkinson/wave_parkinson_032.jpg  \n",
      "  inflating: /content/drive/MyDrive/parkinson/parkinson_dataset/wave/parkinson/wave_parkinson_033.jpg  \n",
      "  inflating: /content/drive/MyDrive/parkinson/parkinson_dataset/wave/parkinson/wave_parkinson_034.jpg  \n",
      "  inflating: /content/drive/MyDrive/parkinson/parkinson_dataset/wave/parkinson/wave_parkinson_035.jpg  \n",
      "  inflating: /content/drive/MyDrive/parkinson/parkinson_dataset/wave/parkinson/wave_parkinson_036.jpg  \n",
      "  inflating: /content/drive/MyDrive/parkinson/parkinson_dataset/wave/parkinson/wave_parkinson_037.jpg  \n",
      "  inflating: /content/drive/MyDrive/parkinson/parkinson_dataset/wave/parkinson/wave_parkinson_038.jpg  \n",
      "  inflating: /content/drive/MyDrive/parkinson/parkinson_dataset/wave/parkinson/wave_parkinson_039.jpg  \n",
      "  inflating: /content/drive/MyDrive/parkinson/parkinson_dataset/wave/parkinson/wave_parkinson_040.jpg  \n",
      "  inflating: /content/drive/MyDrive/parkinson/parkinson_dataset/wave/parkinson/wave_parkinson_041.jpg  \n",
      "  inflating: /content/drive/MyDrive/parkinson/parkinson_dataset/wave/parkinson/wave_parkinson_042.jpg  \n",
      "  inflating: /content/drive/MyDrive/parkinson/parkinson_dataset/wave/parkinson/wave_parkinson_043.jpg  \n",
      "  inflating: /content/drive/MyDrive/parkinson/parkinson_dataset/wave/parkinson/wave_parkinson_044.jpg  \n",
      "  inflating: /content/drive/MyDrive/parkinson/parkinson_dataset/wave/parkinson/wave_parkinson_045.jpg  \n",
      "  inflating: /content/drive/MyDrive/parkinson/parkinson_dataset/wave/parkinson/wave_parkinson_046.jpg  \n",
      "  inflating: /content/drive/MyDrive/parkinson/parkinson_dataset/wave/parkinson/wave_parkinson_047.jpg  \n",
      "  inflating: /content/drive/MyDrive/parkinson/parkinson_dataset/wave/parkinson/wave_parkinson_048.jpg  \n",
      "  inflating: /content/drive/MyDrive/parkinson/parkinson_dataset/wave/parkinson/wave_parkinson_049.jpg  \n",
      "  inflating: /content/drive/MyDrive/parkinson/parkinson_dataset/wave/parkinson/wave_parkinson_050.jpg  \n",
      "  inflating: /content/drive/MyDrive/parkinson/parkinson_dataset/wave/parkinson/wave_parkinson_051.jpg  \n",
      "\n",
      "File 'parkinson_dataset.zip' berhasil diesktrak ke: /content/drive/MyDrive/parkinson\n"
     ]
    }
   ]
  },
  {
   "cell_type": "markdown",
   "source": [
    "## Exploratory Data Analysis"
   ],
   "metadata": {
    "id": "KsC9zKLegWrL"
   }
  },
  {
   "cell_type": "markdown",
   "source": [
    "Pada tahapan ini dilakukan untuk memahami isi dan kualitas dataset sebelum diproses."
   ],
   "metadata": {
    "id": "P3DJzVJAr_43"
   }
  },
  {
   "cell_type": "markdown",
   "source": [
    "### Sampel Gambar untuk Semua Kelas"
   ],
   "metadata": {
    "id": "S3acXdxHseI-"
   }
  },
  {
   "cell_type": "markdown",
   "source": [
    "Untuk memahami seperti apa variasi visual dari tiap kelas  (healthy vs parkinson) dalam jenis gambar (spiral, wave, meander)."
   ],
   "metadata": {
    "id": "wFftOpE9xOmA"
   }
  },
  {
   "cell_type": "code",
   "source": [
    "dataset_dir = '/content/drive/MyDrive/parkinson/parkinson_dataset/'\n",
    "num_samples = 5  # Jumlah gambar yang ingin ditampilkan per kelas\n",
    "\n",
    "sub_folders = ['meander', 'spiral', 'wave']\n",
    "categories = ['healthy', 'parkinson']\n",
    "all_data = {}\n",
    "\n",
    "for sub_folder in sub_folders:\n",
    "    for category in categories:\n",
    "        folder_path = os.path.join(dataset_dir, sub_folder, category)\n",
    "        if os.path.exists(folder_path) and os.path.isdir(folder_path):\n",
    "            image_files = [f for f in os.listdir(folder_path) if os.path.isfile(os.path.join(folder_path, f))]\n",
    "            if image_files:\n",
    "                key_name = f\"{category} ({sub_folder})\"\n",
    "                all_data[key_name] = image_files\n",
    "            else:\n",
    "                print(f\"Tidak ada gambar ditemukan di: {folder_path}\")\n",
    "        else:\n",
    "            print(f\"Folder tidak ditemukan: {folder_path}\")\n",
    "\n",
    "num_rows = len(all_data)\n",
    "if num_rows > 0:\n",
    "    fig, axs = plt.subplots(num_rows, num_samples, figsize=(15, 3 * num_rows))\n",
    "    if num_rows == 1:\n",
    "        axs = [axs]  # Handle kasus hanya satu baris\n",
    "\n",
    "    for i, (class_name_with_folder, image_list) in enumerate(all_data.items()):\n",
    "        images = np.random.choice(image_list, min(num_samples, len(image_list)), replace=False)\n",
    "        class_name = class_name_with_folder.split(' ')[0]\n",
    "        folder_name = class_name_with_folder.split('(')[1][:-1]\n",
    "        for j, image_name in enumerate(images):\n",
    "            img_path = os.path.join(dataset_dir, folder_name, class_name, image_name)\n",
    "            try:\n",
    "                img = Image.open(img_path).convert(\"RGB\")\n",
    "                axs[i, j].imshow(img)\n",
    "                axs[i, j].set(xlabel=class_name_with_folder, xticks=[], yticks=[])\n",
    "            except FileNotFoundError:\n",
    "                print(f\"File tidak ditemukan: {img_path}\")\n",
    "                axs[i, j].set_title(\"File Not Found\")\n",
    "            except Exception as e:\n",
    "                print(f\"Gagal membuka gambar: {img_path} - {e}\")\n",
    "                axs[i, j].set_title(\"Error\")\n",
    "\n",
    "    fig.tight_layout()\n",
    "    plt.show()\n",
    "else:\n",
    "    print(\"Tidak ada data gambar yang ditemukan.\")"
   ],
   "metadata": {
    "colab": {
     "base_uri": "https://localhost:8080/",
     "height": 1000,
     "output_embedded_package_id": "1hAnWtBEnFnHRUuXubLo-7jxQOd2n6rw3"
    },
    "id": "JV6cCI9wgYxW",
    "executionInfo": {
     "status": "ok",
     "timestamp": 1747914763464,
     "user_tz": -420,
     "elapsed": 6996,
     "user": {
      "displayName": "Reicia Data Analyst",
      "userId": "07421877077909343410"
     }
    },
    "outputId": "23a0a3da-1108-49f7-ff18-031f56925195"
   },
   "execution_count": 4,
   "outputs": [
    {
     "output_type": "display_data",
     "data": {
      "text/plain": "Output hidden; open in https://colab.research.google.com to view."
     },
     "metadata": {}
    }
   ]
  },
  {
   "cell_type": "markdown",
   "source": [
    "### Distribusi Gambar di Semua Kelas"
   ],
   "metadata": {
    "id": "u688h4KQslvr"
   }
  },
  {
   "cell_type": "code",
   "source": [
    "file_name = []\n",
    "labels = []\n",
    "full_path = []\n",
    "\n",
    "# Mengumpulkan nama file, path lengkap, dan label dari setiap gambar\n",
    "for path, subdirs, files in os.walk(dataset_dir):\n",
    "    for name in files:\n",
    "        if name.lower().endswith(('.png', '.jpg', '.jpeg')):  # Hanya memproses file gambar\n",
    "            full_path.append(os.path.join(path, name))\n",
    "            labels.append(path.split('/')[-1])\n",
    "            file_name.append(name)\n",
    "\n",
    "# Membuat DataFrame dari data yang terkumpul\n",
    "distribution = pd.DataFrame({\"path\": full_path, 'file_name': file_name, \"labels\": labels})\n",
    "\n",
    "# Filter DataFrame hanya untuk label 'healthy' dan 'parkinson'\n",
    "distribution_filtered = distribution[distribution['labels'].isin(['healthy', 'parkinson'])]\n",
    "\n",
    "# Menghitung jumlah gambar per kelas\n",
    "label_counts = distribution_filtered['labels'].value_counts().sort_values(ascending=False)\n",
    "\n",
    "# Plot distribusi untuk kelas 'healthy' dan 'parkinson'\n",
    "plt.figure(figsize=(8, 5))\n",
    "sns.set_style(\"darkgrid\")\n",
    "sns.countplot(y='labels', data=distribution_filtered, order=label_counts.index)\n",
    "plt.title('Distribusi Jumlah Gambar per Kelas (Healthy vs Parkinson)')\n",
    "plt.xlabel('Jumlah Gambar')\n",
    "plt.ylabel('Kelas')\n",
    "plt.tight_layout()\n",
    "plt.show()\n",
    "\n",
    "print(\"\\nJumlah Gambar per Kelas (Healthy vs Parkinson):\")\n",
    "print(label_counts)"
   ],
   "metadata": {
    "colab": {
     "base_uri": "https://localhost:8080/",
     "height": 611
    },
    "id": "WRscJKyFhPCy",
    "executionInfo": {
     "status": "ok",
     "timestamp": 1747914768882,
     "user_tz": -420,
     "elapsed": 215,
     "user": {
      "displayName": "Reicia Data Analyst",
      "userId": "07421877077909343410"
     }
    },
    "outputId": "f9c2bfd8-fbbf-4185-d65c-b78f797fd568"
   },
   "execution_count": 5,
   "outputs": [
    {
     "output_type": "display_data",
     "data": {
      "text/plain": [
       "<Figure size 800x500 with 1 Axes>"
      ],
      "image/png": "[encoded data removed]"
     },
     "metadata": {}
    },
    {
     "output_type": "stream",
     "name": "stdout",
     "text": [
      "\n",
      "Jumlah Gambar per Kelas (Healthy vs Parkinson):\n",
      "labels\n",
      "parkinson    694\n",
      "healthy      246\n",
      "Name: count, dtype: int64\n"
     ]
    }
   ]
  },
  {
   "cell_type": "markdown",
   "source": [
    "### Distribusi Gambar per Kelas dan Jenis"
   ],
   "metadata": {
    "id": "j1WaDYmGsrI_"
   }
  },
  {
   "cell_type": "code",
   "source": [
    "full_path = []\n",
    "combined_labels = []\n",
    "\n",
    "# Mengumpulkan path dan label yang dikombinasikan\n",
    "for path, subdirs, files in os.walk(dataset_dir):\n",
    "    if path.endswith('healthy') or path.endswith('parkinson'):\n",
    "        image_type = path.split('/')[-2]\n",
    "        current_label = path.split('/')[-1]\n",
    "        for name in files:\n",
    "            if name.lower().endswith(('.png', '.jpg', '.jpeg')):\n",
    "                full_path.append(os.path.join(path, name))\n",
    "                combined_labels.append(f\"{current_label} ({image_type})\")\n",
    "\n",
    "# Membuat DataFrame\n",
    "distribution = pd.DataFrame({\"path\": full_path, \"labels\": combined_labels})\n",
    "\n",
    "# Menghitung jumlah gambar per kelas dan jenis\n",
    "label_counts = distribution['labels'].value_counts().sort_values(ascending=False)\n",
    "\n",
    "# Plot distribusi\n",
    "plt.figure(figsize=(10, 6))\n",
    "n_labels = len(label_counts)\n",
    "palette = sns.color_palette(\"Blues_r\", n_labels)\n",
    "sns.set_style(\"darkgrid\")\n",
    "sns.countplot(y='labels', data=distribution, order=label_counts.index, palette=palette)\n",
    "plt.title('Distribusi Jumlah Gambar per Kelas dan Jenis')\n",
    "plt.xlabel('Jumlah Gambar')\n",
    "plt.ylabel('Kelas (Label (Jenis))')\n",
    "plt.tight_layout()\n",
    "plt.show()\n",
    "\n",
    "print(\"\\nJumlah Gambar per Kelas dan Jenis:\")\n",
    "print(label_counts)"
   ],
   "metadata": {
    "colab": {
     "base_uri": "https://localhost:8080/",
     "height": 781
    },
    "id": "-_Ja-5ZZi_ts",
    "executionInfo": {
     "status": "ok",
     "timestamp": 1747914771648,
     "user_tz": -420,
     "elapsed": 301,
     "user": {
      "displayName": "Reicia Data Analyst",
      "userId": "07421877077909343410"
     }
    },
    "outputId": "3659a266-80b9-40f2-eee1-2f4b925cb755"
   },
   "execution_count": 6,
   "outputs": [
    {
     "output_type": "display_data",
     "data": {
      "text/plain": [
       "<Figure size 1000x600 with 1 Axes>"
      ],
      "image/png": "[encoded data removed]"
     },
     "metadata": {}
    },
    {
     "output_type": "stream",
     "name": "stdout",
     "text": [
      "\n",
      "Jumlah Gambar per Kelas dan Jenis:\n",
      "labels\n",
      "parkinson (spiral)     347\n",
      "parkinson (meander)    296\n",
      "healthy (spiral)       123\n",
      "healthy (meander)       72\n",
      "healthy (wave)          51\n",
      "parkinson (wave)        51\n",
      "Name: count, dtype: int64\n"
     ]
    }
   ]
  },
  {
   "cell_type": "markdown",
   "source": [
    "Visualisasi di atas menunjukkan distribusi jumlah gambar untuk setiap kombinasi kelas (healthy, parkinson) dan jenis gambar (meander, spiral, wave) dalam dataset.\n",
    "\n",
    "**Observasi:**\n",
    "\n",
    "* Kelas **parkinson** secara umum memiliki jumlah gambar yang lebih banyak dibandingkan kelas **healthy**.\n",
    "* Jenis gambar **spiral** memiliki jumlah sampel terbanyak, terutama untuk kelas **parkinson**.\n",
    "* Jenis gambar **wave** memiliki jumlah sampel yang paling sedikit untuk kedua kelas.\n",
    "* Terlihat adanya ketidakseimbangan data antar kelas dan jenis. Misalnya, jumlah gambar **parkinson (spiral)** jauh lebih banyak dibandingkan **healthy (wave)** atau **parkinson (wave)**.\n",
    "\n",
    "**Implikasi:**\n",
    "\n",
    "Ketidakseimbangan distribusi ini dapat mempengaruhi kinerja model klasifikasi yang akan dilatih menggunakan dataset ini. Model berpotensi menjadi bias terhadap kelas dan jenis dengan jumlah sampel yang lebih banyak.\n",
    "\n",
    "**Langkah Selanjutnya:**\n",
    "\n",
    "Untuk mengatasi ketidakseimbangan ini, beberapa teknik dapat dipertimbangkan selama tahap *preprocessing* dan pelatihan model, seperti *oversampling* kelas minoritas, *undersampling* kelas mayoritas, atau penggunaan teknik augmentasi data."
   ],
   "metadata": {
    "id": "RbK-5gVpnyBu"
   }
  },
  {
   "cell_type": "markdown",
   "source": [
    "## Preprocessing Dataset"
   ],
   "metadata": {
    "id": "wGhvTq7EoP09"
   }
  },
  {
   "cell_type": "markdown",
   "source": [
    "### Mengecek Format Warna dan Channel RGB"
   ],
   "metadata": {
    "id": "GiR7lbjeNieO"
   }
  },
  {
   "cell_type": "code",
   "source": [
    "# Cek RGB channel\n",
    "rgb_channels = []\n",
    "for path in distribution_filtered['path']:\n",
    "    try:\n",
    "        img = Image.open(path)\n",
    "        rgb_channels.append(len(img.getbands()))\n",
    "    except:\n",
    "        pass\n",
    "print(Counter(rgb_channels))"
   ],
   "metadata": {
    "colab": {
     "base_uri": "https://localhost:8080/"
    },
    "id": "Tu5AUgR6cPij",
    "executionInfo": {
     "status": "ok",
     "timestamp": 1747914778028,
     "user_tz": -420,
     "elapsed": 3158,
     "user": {
      "displayName": "Reicia Data Analyst",
      "userId": "07421877077909343410"
     }
    },
    "outputId": "1cc139d4-bca5-4bb9-803f-dfc1c828f315"
   },
   "execution_count": 7,
   "outputs": [
    {
     "output_type": "stream",
     "name": "stdout",
     "text": [
      "Counter({3: 931, 4: 9})\n"
     ]
    }
   ]
  },
  {
   "cell_type": "markdown",
   "source": [
    "**Insight**\n",
    "\n",
    "* 931 gambar yang memiliki 3 channel warna (yang biasanya berwarna RGB).\n",
    "* 9 gambar yang memiliki 4 channel warna (yang biasanya berarti gambar berwarna RGBA, di mana 'A' adalah alpha atau transparansi).\n",
    "\n",
    "**Implikasinya untuk pemrosesan gambar:**\n",
    "\n",
    "Sebagian besar gambar adalah gambar berwarna standar (RGB).\n",
    "Ada sebagian kecil gambar (9 dari total) yang memiliki saluran alpha.\n",
    "Langkah selanjutnya yang mungkin perlu dipertimbangkan:\n",
    "\n",
    "**Langkah selanjutnya:**\n",
    "Karena pada model machine learning untuk gambar harus memiliki channel warna yang konsisten, maka akan dilakukan konversi semua gambar ke format RGB."
   ],
   "metadata": {
    "id": "sDoAG75tgNv-"
   }
  },
  {
   "cell_type": "code",
   "source": [
    "# Konversi RGBA ke RGB\n",
    "for path, subdirs, files in os.walk(dataset_dir):\n",
    "    if path.endswith('healthy') or path.endswith('parkinson'):\n",
    "        image_type = path.split('/')[-2]\n",
    "        current_label = path.split('/')[-1]\n",
    "        for name in files:\n",
    "            if name.lower().endswith(('.png', '.jpg', '.jpeg')):\n",
    "                img_path = os.path.join(path, name)\n",
    "                try:\n",
    "                    img = Image.open(img_path).convert('RGB')  # Konversi ke RGB saat dibuka\n",
    "                    full_path.append(img_path)\n",
    "                    combined_labels.append(f\"{current_label} ({image_type})\")\n",
    "                except Exception as e:\n",
    "                    print(f\"Gagal membuka atau mengonversi {img_path}: {e}\")\n",
    "\n",
    "print(f\"Panjang full_path setelah pemuatan: {len(full_path)}\")\n",
    "print(f\"Panjang combined_labels setelah pemuatan: {len(combined_labels)}\")"
   ],
   "metadata": {
    "colab": {
     "base_uri": "https://localhost:8080/"
    },
    "id": "hLnhipfQhGOh",
    "executionInfo": {
     "status": "ok",
     "timestamp": 1747914792777,
     "user_tz": -420,
     "elapsed": 12445,
     "user": {
      "displayName": "Reicia Data Analyst",
      "userId": "07421877077909343410"
     }
    },
    "outputId": "4995315a-64ce-4195-b627-78aba3c76974"
   },
   "execution_count": 8,
   "outputs": [
    {
     "output_type": "stream",
     "name": "stdout",
     "text": [
      "Panjang full_path setelah pemuatan: 1880\n",
      "Panjang combined_labels setelah pemuatan: 1880\n"
     ]
    }
   ]
  },
  {
   "cell_type": "code",
   "source": [
    "# Membuat DataFrame\n",
    "if len(full_path) == len(combined_labels):\n",
    "    distribution = pd.DataFrame({\"path\": full_path, \"labels\": combined_labels})\n",
    "    print(\"\\nDataFrame berhasil dibuat.\")\n",
    "\n",
    "    label_counts = distribution['labels'].value_counts().sort_values(ascending=False)\n",
    "\n",
    "    plt.figure(figsize=(10, 6))\n",
    "    n_labels = len(label_counts)\n",
    "    palette = sns.color_palette(\"Blues_r\", n_labels)\n",
    "    sns.set_style(\"darkgrid\")\n",
    "    sns.countplot(y='labels', data=distribution, order=label_counts.index, palette=palette)\n",
    "    plt.title('Distribusi Jumlah Gambar per Kelas dan Jenis')\n",
    "    plt.xlabel('Jumlah Gambar')\n",
    "    plt.ylabel('Kelas (Label (Jenis))')\n",
    "    plt.tight_layout()\n",
    "    plt.show()\n",
    "\n",
    "    print(\"\\nJumlah Gambar per Kelas dan Jenis:\")\n",
    "    print(label_counts)\n",
    "\n",
    "else:\n",
    "    print(\"\\nPanjang full_path dan combined_labels tidak sama. Tidak dapat membuat DataFrame.\")\n",
    "    print(\"Periksa kembali proses pemuatan data.\")"
   ],
   "metadata": {
    "colab": {
     "base_uri": "https://localhost:8080/",
     "height": 815
    },
    "id": "_k8DrNabhSLA",
    "executionInfo": {
     "status": "ok",
     "timestamp": 1747914795606,
     "user_tz": -420,
     "elapsed": 301,
     "user": {
      "displayName": "Reicia Data Analyst",
      "userId": "07421877077909343410"
     }
    },
    "outputId": "0d116c78-e322-44cb-e1cc-d6414155ea6e"
   },
   "execution_count": 9,
   "outputs": [
    {
     "output_type": "stream",
     "name": "stdout",
     "text": [
      "\n",
      "DataFrame berhasil dibuat.\n"
     ]
    },
    {
     "output_type": "display_data",
     "data": {
      "text/plain": [
       "<Figure size 1000x600 with 1 Axes>"
      ],
      "image/png": "[encoded data removed]"
     },
     "metadata": {}
    },
    {
     "output_type": "stream",
     "name": "stdout",
     "text": [
      "\n",
      "Jumlah Gambar per Kelas dan Jenis:\n",
      "labels\n",
      "parkinson (spiral)     694\n",
      "parkinson (meander)    592\n",
      "healthy (spiral)       246\n",
      "healthy (meander)      144\n",
      "healthy (wave)         102\n",
      "parkinson (wave)       102\n",
      "Name: count, dtype: int64\n"
     ]
    }
   ]
  },
  {
   "cell_type": "markdown",
   "source": [
    "### Mengecek Ukuran Gambar"
   ],
   "metadata": {
    "id": "qtRVqOqQN7JU"
   }
  },
  {
   "cell_type": "code",
   "source": [
    "image_sizes = {}\n",
    "\n",
    "for sub_folder in sub_folders:\n",
    "    for category in categories:\n",
    "        folder_path = os.path.join(dataset_dir, sub_folder, category)\n",
    "        if os.path.exists(folder_path) and os.path.isdir(folder_path):\n",
    "            for filename in os.listdir(folder_path):\n",
    "                if filename.lower().endswith(('.png', '.jpg', '.jpeg')):\n",
    "                    img_path = os.path.join(folder_path, filename)\n",
    "                    try:\n",
    "                        with Image.open(img_path) as img:\n",
    "                            size = img.size\n",
    "                            if (sub_folder, category) not in image_sizes:\n",
    "                                image_sizes[(sub_folder, category)] = []\n",
    "                            image_sizes[(sub_folder, category)].append(size)\n",
    "                    except Exception as e:\n",
    "                        print(f\"Gagal membuka {img_path}: {e}\")\n",
    "\n",
    "for key, sizes in image_sizes.items():\n",
    "    print(f\"Ukuran gambar untuk {key}: {set(sizes)}\")"
   ],
   "metadata": {
    "colab": {
     "base_uri": "https://localhost:8080/"
    },
    "id": "3-RAhD6tfLX1",
    "executionInfo": {
     "status": "ok",
     "timestamp": 1747914801797,
     "user_tz": -420,
     "elapsed": 3303,
     "user": {
      "displayName": "Reicia Data Analyst",
      "userId": "07421877077909343410"
     }
    },
    "outputId": "990962a9-74eb-4908-d696-78fd78f93560"
   },
   "execution_count": 10,
   "outputs": [
    {
     "output_type": "stream",
     "name": "stdout",
     "text": [
      "Ukuran gambar untuk ('meander', 'healthy'): {(570, 570), (558, 544), (560, 541), (566, 566), (571, 556), (576, 540), (588, 566), (580, 562), (534, 540), (561, 530), (586, 544), (564, 520), (587, 552), (552, 524), (576, 552), (556, 528), (578, 552), (558, 522), (560, 528), (548, 526), (546, 538), (560, 534), (554, 530), (588, 556), (552, 532), (604, 546), (574, 560), (595, 601), (600, 530), (598, 572), (551, 528), (557, 568), (566, 580), (552, 526), (564, 528), (586, 558), (580, 576), (566, 522), (595, 564), (548, 516), (556, 582), (570, 550), (545, 557), (564, 540), (592, 556), (576, 560), (548, 522), (548, 528), (570, 568), (602, 542), (582, 542), (554, 584), (544, 555), (557, 552), (562, 536), (550, 513), (566, 570), (564, 576), (550, 522), (571, 563), (532, 547), (562, 554), (540, 566), (550, 540), (557, 521), (606, 542), (552, 534), (556, 547), (560, 538), (588, 554)}\n",
      "Ukuran gambar untuk ('meander', 'parkinson'): {(604, 544), (570, 576), (632, 560), (604, 608), (571, 550), (560, 550), (582, 614), (568, 542), (586, 550), (584, 532), (580, 580), (546, 532), (584, 550), (566, 544), (612, 596), (568, 563), (558, 540), (822, 598), (582, 598), (580, 546), (598, 560), (562, 540), (654, 614), (588, 614), (583, 572), (608, 562), (572, 572), (582, 616), (586, 543), (578, 548), (592, 547), (595, 564), (564, 540), (602, 588), (584, 552), (612, 598), (616, 614), (590, 540), (568, 574), (544, 552), (684, 712), (582, 600), (616, 632), (608, 564), (636, 610), (572, 574), (566, 558), (573, 551), (660, 556), (612, 564), (563, 559), (626, 572), (550, 534), (578, 550), (618, 568), (586, 563), (579, 579), (624, 611), (556, 538), (590, 588), (590, 542), (602, 544), (624, 574), (588, 554), (563, 534), (580, 550), (682, 744), (570, 582), (590, 560), (566, 560), (548, 554), (666, 592), (564, 572), (580, 568), (694, 672), (576, 546), (550, 536), (542, 532), (570, 548), (576, 564), (610, 566), (568, 551), (576, 628), (585, 576), (562, 574), (578, 570), (570, 557), (656, 572), (598, 548), (574, 548), (554, 634), (582, 540), (588, 556), (666, 576), (592, 572), (580, 552), (576, 548), (575, 528), (681, 686), (592, 544), (612, 586), (573, 567), (622, 597), (600, 560), (588, 540), (614, 678), (573, 585), (574, 550), (570, 568), (590, 546), (572, 562), (588, 558), (638, 626), (538, 548), (566, 564), (604, 548), (598, 562), (602, 560), (610, 662), (612, 570), (550, 586), (570, 534), (584, 597), (578, 556), (570, 552), (604, 584), (596, 580), (624, 626), (560, 590), (580, 538), (608, 554), (573, 532), (577, 548), (572, 564), (566, 548), (606, 630), (564, 560), (609, 592), (612, 554), (578, 586), (600, 534), (577, 566), (576, 543), (602, 562), (578, 540), (585, 555), (576, 552), (561, 533), (578, 549), (588, 572), (642, 616), (578, 558), (567, 558), (552, 539), (576, 570), (594, 612), (592, 560), (580, 540), (574, 554), (597, 556), (606, 568), (600, 582), (608, 565), (604, 598), (574, 572), (622, 558), (586, 546), (676, 632), (588, 574), (576, 554), (543, 551), (600, 548), (582, 576), (580, 524), (574, 538), (642, 572), (574, 602), (591, 563), (575, 546), (580, 542), (582, 539), (611, 584), (558, 548), (600, 584), (556, 560), (564, 573), (568, 534), (579, 564), (590, 564), (602, 566), (570, 540), (536, 538), (568, 552), (536, 547), (562, 566), (554, 562), (592, 546), (583, 543), (574, 540), (564, 539), (614, 622), (600, 568), (582, 596), (580, 544), (586, 578), (556, 544), (566, 554), (585, 534), (564, 566), (570, 524), (576, 540), (569, 589), (573, 550), (578, 546), (582, 562), (559, 542), (548, 560), (551, 538), (670, 638), (574, 542), (584, 544), (592, 612), (584, 608), (583, 554), (572, 554), (552, 548), (594, 554), (556, 546), (624, 564), (566, 556), (604, 540), (562, 534), (636, 602), (556, 564), (661, 601), (560, 546), (582, 546), (570, 535), (600, 536), (602, 570), (624, 600), (628, 552), (562, 616), (582, 564), (572, 520), (554, 557), (572, 538), (554, 566), (580, 530), (580, 594), (546, 537), (584, 610), (558, 536), (594, 556), (566, 549), (726, 614), (556, 548), (584, 564), (588, 546), (598, 547), (578, 578), (610, 592), (558, 554), (562, 536), (582, 548), (568, 540), (562, 554), (572, 522), (562, 618), (554, 550), (586, 548), (636, 576), (558, 520), (589, 590), (592, 552), (584, 612), (552, 552), (590, 536), (568, 570), (576, 528)}\n",
      "Ukuran gambar untuk ('spiral', 'healthy'): {(692, 666), (680, 692), (650, 654), (676, 679), (676, 682), (668, 678), (684, 668), (650, 672), (664, 674), (680, 658), (690, 662), (684, 680), (666, 668), (686, 683), (666, 674), (688, 674), (702, 664), (672, 666), (678, 654), (687, 654), (691, 682), (674, 672), (676, 666), (676, 672), (260, 251), (674, 678), (684, 658), (678, 672), (686, 664), (696, 670), (672, 644), (694, 680), (672, 653), (256, 256), (689, 666), (656, 672), (666, 676), (666, 670), (680, 672), (656, 684), (253, 254), (676, 662), (646, 652), (674, 674), (680, 687), (700, 668), (676, 674), (714, 658), (681, 661), (667, 650), (693, 672), (664, 660), (670, 676), (688, 666), (692, 682), (666, 669), (692, 688), (654, 646), (676, 652), (652, 658), (674, 664), (662, 662), (658, 674), (672, 670), (682, 668), (706, 696), (662, 668), (686, 684), (668, 654), (674, 676), (660, 650), (691, 689)}\n",
      "Ukuran gambar untuk ('spiral', 'parkinson'): {(704, 686), (692, 666), (696, 682), (684, 662), (678, 676), (676, 679), (702, 698), (668, 684), (700, 682), (690, 714), (706, 677), (690, 668), (699, 680), (698, 682), (664, 680), (786, 712), (678, 706), (702, 673), (698, 700), (678, 660), (710, 729), (722, 694), (684, 664), (687, 681), (682, 694), (690, 652), (706, 670), (696, 702), (692, 680), (682, 657), (697, 676), (712, 692), (695, 651), (710, 704), (698, 684), (692, 698), (702, 675), (698, 702), (690, 682), (713, 684), (693, 660), (722, 696), (724, 693), (710, 676), (708, 706), (696, 686), (702, 702), (734, 734), (688, 712), (750, 730), (706, 672), (700, 686), (688, 666), (664, 666), (692, 682), (666, 663), (728, 702), (674, 710), (684, 678), (695, 708), (706, 690), (669, 689), (686, 684), (698, 686), (676, 658), (690, 675), (704, 674), (722, 744), (696, 670), (685, 670), (678, 664), (682, 680), (688, 696), (666, 656), (694, 672), (711, 688), (686, 668), (692, 684), (726, 716), (686, 677), (700, 706), (686, 686), (724, 670), (730, 686), (698, 688), (692, 702), (688, 680), (718, 730), (704, 676), (676, 660), (696, 672), (742, 724), (678, 666), (702, 688), (690, 686), (674, 678), (682, 691), (700, 672), (728, 688), (766, 800), (694, 674), (706, 676), (658, 654), (686, 670), (666, 658), (256, 256), (698, 736), (726, 718), (686, 688), (658, 681), (688, 682), (676, 662), (708, 694), (696, 674), (730, 706), (706, 706), (718, 680), (700, 674), (706, 724), (682, 702), (684, 666), (692, 734), (706, 678), (700, 692), (692, 688), (694, 685), (666, 669), (684, 684), (720, 704), (696, 658), (688, 684), (704, 680), (696, 676), (674, 682), (692, 718), (705, 697), (675, 656), (772, 726), (701, 684), (681, 681), (718, 700), (698, 676), (710, 760), (684, 686), (714, 696), (742, 712), (758, 708), (682, 734), (690, 692), (694, 708), (674, 684), (694, 662), (700, 678), (692, 674), (709, 690), (702, 706), (678, 684), (694, 680), (686, 676), (682, 654), (712, 704), (688, 670), (704, 666), (680, 666), (708, 682), (711, 708), (690, 685), (668, 664), (672, 680), (706, 712), (682, 690), (683, 719), (700, 680), (710, 682), (664, 660), (694, 673), (684, 672), (678, 686), (695, 702), (718, 704), (685, 673), (710, 700), (686, 678), (724, 708), (696, 756), (660, 690), (688, 672), (685, 664), (690, 678), (682, 674), (698, 692), (682, 738), (708, 702), (737, 738), (681, 651), (674, 679), (664, 708), (738, 746), (712, 672), (700, 737), (694, 666), (678, 670), (664, 726), (684, 674), (702, 664), (707, 678), (706, 680), (682, 658), (697, 677), (726, 722), (690, 680), (706, 698), (683, 696), (688, 692), (686, 692), (674, 672), (682, 740), (694, 650), (692, 662), (720, 678), (684, 658), (704, 700), (644, 658), (690, 710), (722, 660), (677, 692), (696, 705), (696, 714), (682, 660), (660, 694), (688, 676), (700, 696), (720, 708), (689, 675), (662, 666), (688, 685), (691, 672), (682, 678), (720, 662), (686, 694), (698, 696), (695, 672), (702, 687), (684, 660), (675, 657), (716, 722), (696, 698), (693, 681), (708, 672), (714, 688), (706, 684), (698, 680), (682, 726), (692, 694), (712, 706), (672, 688)}\n",
      "Ukuran gambar untuk ('wave', 'healthy'): {(512, 223), (512, 168), (512, 290), (512, 305), (512, 183), (512, 247), (512, 192), (512, 250), (512, 320), (512, 265), (512, 268), (512, 271), (512, 277), (512, 225), (512, 338), (512, 350), (512, 353), (512, 273), (512, 212), (512, 331), (512, 279), (512, 221), (512, 227), (512, 224), (512, 233), (512, 172), (512, 239), (512, 242), (512, 260), (512, 202), (512, 211)}\n",
      "Ukuran gambar untuk ('wave', 'parkinson'): {(512, 168), (512, 415), (512, 305), (512, 308), (512, 317), (512, 265), (512, 204), (512, 445), (512, 393), (512, 210), (512, 277), (512, 399), (512, 344), (512, 228), (512, 234), (512, 353), (512, 231), (512, 298), (512, 182), (512, 246), (512, 304), (512, 243), (512, 194), (512, 255), (512, 319), (512, 264), (512, 154), (512, 336), (512, 230), (512, 294), (512, 297), (512, 187), (512, 251), (512, 248), (512, 492), (512, 312), (512, 138), (512, 263), (512, 196), (512, 208), (512, 211), (512, 516), (512, 455)}\n"
     ]
    }
   ]
  },
  {
   "cell_type": "markdown",
   "source": [
    "Pada tahapan ini, kita melihat jenis ukuran dan label dalam dataset. Jika setnya hanya berisi satu ukuran, berarti semua gambar dalam kategori tersebut memiliki ukuran yang sama.\n",
    "\n",
    "Dari hasil di atas, diketahui:\n",
    "- Untuk jenis gambar meander, ukuran gambar sangat bervariasi baik untuk kelas healthy maupun parkinson.\n",
    "- Untuk jenis gambar spiral, ukurannya juga cukup bervariasi, meskipun terlihat ada kecenderungan ukuran yang lebih besar dibandingkan meander.\n",
    "- Untuk jenis gambar wave, lebar gambar konsisten (512 piksel), tetapi tinggi gambar sangat bervariasi.\n",
    "\n",
    "Dataset ini memiliki gambar dengan ukuran yang tidak seragam. Ini adalah informasi penting untuk langkah selanjutnya, seperti mempersiapkan data untuk model deep learning, di mana seringkali input dengan ukuran yang sama diperlukan. Kita mungkin perlu melakukan resizing atau cropping pada gambar."
   ],
   "metadata": {
    "id": "mfM02kU7i1b3"
   }
  },
  {
   "cell_type": "markdown",
   "source": [
    "### Mengecek Ukuran dan Format File"
   ],
   "metadata": {
    "id": "EYrCO-ffe3my"
   }
  },
  {
   "cell_type": "code",
   "source": [
    "sample_image_path = distribution_filtered['path'].sample(5).tolist()\n",
    "\n",
    "for img_path in sample_image_path:\n",
    "    with Image.open(img_path) as img:\n",
    "        print(f\"{os.path.basename(img_path)} - Size: {img.size}, Mode: {img.mode}\")"
   ],
   "metadata": {
    "colab": {
     "base_uri": "https://localhost:8080/"
    },
    "id": "kf4V-SHbfkwK",
    "executionInfo": {
     "status": "ok",
     "timestamp": 1747914804348,
     "user_tz": -420,
     "elapsed": 27,
     "user": {
      "displayName": "Reicia Data Analyst",
      "userId": "07421877077909343410"
     }
    },
    "outputId": "2e4c095b-1d91-4155-8024-7a34d2daed23"
   },
   "execution_count": 11,
   "outputs": [
    {
     "output_type": "stream",
     "name": "stdout",
     "text": [
      "wave_parkinson_049.jpg - Size: (512, 234), Mode: RGB\n",
      "wave_parkinson_045.jpg - Size: (512, 393), Mode: RGB\n",
      "meander_parkinson_141.jpg - Size: (559, 542), Mode: RGB\n",
      "meander_parkinson_144.jpg - Size: (567, 558), Mode: RGB\n",
      "meander_parkinson_179.jpg - Size: (568, 552), Mode: RGB\n"
     ]
    }
   ]
  },
  {
   "cell_type": "markdown",
   "source": [
    "### Mengecek Gambar Corrupt"
   ],
   "metadata": {
    "id": "7ZzIasjxfuFA"
   }
  },
  {
   "cell_type": "code",
   "source": [
    "corrupt_paths = []\n",
    "for path in distribution_filtered['path']:\n",
    "    try:\n",
    "        img = Image.open(path)\n",
    "        img.verify()\n",
    "    except:\n",
    "        corrupt_paths.append(path)\n",
    "print(f\"Jumlah gambar corrupt: {len(corrupt_paths)}\")"
   ],
   "metadata": {
    "colab": {
     "base_uri": "https://localhost:8080/"
    },
    "id": "bfPo3_-BfwTK",
    "executionInfo": {
     "status": "ok",
     "timestamp": 1747914809210,
     "user_tz": -420,
     "elapsed": 3194,
     "user": {
      "displayName": "Reicia Data Analyst",
      "userId": "07421877077909343410"
     }
    },
    "outputId": "1f01b7b6-83d2-4eaf-b56b-5797e586f6a6"
   },
   "execution_count": 12,
   "outputs": [
    {
     "output_type": "stream",
     "name": "stdout",
     "text": [
      "Jumlah gambar corrupt: 0\n"
     ]
    }
   ]
  },
  {
   "cell_type": "markdown",
   "source": [
    "### Normalisasi Label"
   ],
   "metadata": {
    "id": "yhKYmaJieoPv"
   }
  },
  {
   "cell_type": "markdown",
   "source": [
    "Pada tahapan ini, kita akan menormalisasikan label menjadi hanya `parkinson` dan `healthy` supaya model fokus dalam klasifikasikan kondisi pasien, bukan jenis gambarnya, dan juga membantu balancing data antar kelas."
   ],
   "metadata": {
    "id": "GbnWFqAHeryU"
   }
  },
  {
   "cell_type": "code",
   "source": [
    "# Ubah label menjadi 2 kelas utama: 'parkinson' dan 'healthy'\n",
    "distribution_filtered['labels'] = distribution_filtered['labels'].apply(\n",
    "    lambda x: 'parkinson' if 'parkinson' in x.lower() else 'healthy'\n",
    ")"
   ],
   "metadata": {
    "id": "viRa86KFeW7o",
    "executionInfo": {
     "status": "ok",
     "timestamp": 1747914810895,
     "user_tz": -420,
     "elapsed": 19,
     "user": {
      "displayName": "Reicia Data Analyst",
      "userId": "07421877077909343410"
     }
    }
   },
   "execution_count": 13,
   "outputs": []
  },
  {
   "cell_type": "markdown",
   "source": [
    "### Split Data"
   ],
   "metadata": {
    "id": "ETGqto7hfCOU"
   }
  },
  {
   "cell_type": "markdown",
   "source": [
    "Pada tahapan ini dilakukan untuk menjaga proporsi antar kelas agar tetap seimbang, langkah ini sangat penting untuk model agar tidak bias ke kelas mayoritas."
   ],
   "metadata": {
    "id": "p6NzFtB9fsJE"
   }
  },
  {
   "cell_type": "code",
   "source": [
    "SEED = 42\n",
    "\n",
    "# Split data: test (10%), train (80%), val (10%) dari sisa\n",
    "test_df = distribution_filtered.groupby('labels', group_keys=False).apply(lambda x: x.sample(frac=0.1, random_state=SEED))\n",
    "trainval_df = distribution_filtered.drop(test_df.index)\n",
    "train_df, val_df = train_test_split(trainval_df, test_size=0.2, stratify=trainval_df['labels'], random_state=SEED)\n",
    "print(f\"Train: {len(train_df)}, Val: {len(val_df)}, Test: {len(test_df)}\")"
   ],
   "metadata": {
    "id": "4MCMFPQppCuY",
    "colab": {
     "base_uri": "https://localhost:8080/"
    },
    "executionInfo": {
     "status": "ok",
     "timestamp": 1747914812807,
     "user_tz": -420,
     "elapsed": 30,
     "user": {
      "displayName": "Reicia Data Analyst",
      "userId": "07421877077909343410"
     }
    },
    "outputId": "eafa3638-dde0-42a6-c0c4-f27320857471"
   },
   "execution_count": 14,
   "outputs": [
    {
     "output_type": "stream",
     "name": "stdout",
     "text": [
      "Train: 676, Val: 170, Test: 94\n"
     ]
    },
    {
     "output_type": "stream",
     "name": "stderr",
     "text": [
      "<ipython-input-14-33cc65c5475a>:4: DeprecationWarning: DataFrameGroupBy.apply operated on the grouping columns. This behavior is deprecated, and in a future version of pandas the grouping columns will be excluded from the operation. Either pass `include_groups=False` to exclude the groupings or explicitly select the grouping columns after groupby to silence this warning.\n",
      "  test_df = distribution_filtered.groupby('labels', group_keys=False).apply(lambda x: x.sample(frac=0.1, random_state=SEED))\n"
     ]
    }
   ]
  },
  {
   "cell_type": "markdown",
   "source": [
    "### Salin Gambar ke Folder sesuai Split dan Label"
   ],
   "metadata": {
    "id": "u_J2dq2Df6ng"
   }
  },
  {
   "cell_type": "code",
   "source": [
    "def copy_images_to_split_folder(df, split_name, base_path='/content/drive/MyDrive/parkinson/split_data'):\n",
    "    for _, row in tq(df.iterrows(), total=len(df)):\n",
    "        label = row['labels']\n",
    "        dst_dir = os.path.join(base_path, split_name, label)\n",
    "        os.makedirs(dst_dir, exist_ok=True)\n",
    "        shutil.copy(row['path'], os.path.join(dst_dir, os.path.basename(row['path'])))\n",
    "\n",
    "copy_images_to_split_folder(train_df, \"train\")\n",
    "copy_images_to_split_folder(val_df, \"val\")\n",
    "copy_images_to_split_folder(test_df, \"test\")"
   ],
   "metadata": {
    "colab": {
     "base_uri": "https://localhost:8080/",
     "height": 113,
     "referenced_widgets": [
      "ae6587040a6e4de0bace36c52e1dbfd8",
      "641b6bf7fdf342639e209fb56971aceb",
      "ed9852cb1bc6430da58400ddb2ae6602",
      "9e2d48eb20af4aceb3d27336b8d4382c",
      "d545c2ce956a48b6ad4402155a681409",
      "8f295d7ccba14adb87f004e8da1d7882",
      "37fdda6509b642e895c58b6d166275fe",
      "736d131a74cb41dd8600844bb803f43f",
      "3f82cdb963004928b41571b89b08a150",
      "59737b93c8f6434ca97ccbc05851679c",
      "683abc26e7b646fbb6e5a60cb8a45c44",
      "376d43615b544da89b8fce2a959ee30d",
      "2c1e8de80c6a48a8bf214d6312bee6d9",
      "e5f84be13181469abdd9908d71c1ee77",
      "442d6ca393e34f1997c7317530c822d8",
      "e90a08a652004ce583311c2b892faf06",
      "0327cbb8a3954b909ae568de5977e37d",
      "837762777cdd47b2ad7ea347e0d0934d",
      "36d5e9e18fae41188079ae4b47c6120b",
      "88b6da8b924a460cb61529d86f63dd3f",
      "d41290e007304aa7a061cc16c4227ca9",
      "2c16fe080d0b48bb9de3306fc06566dc",
      "0004a2032a0944e5a0d36b54885910f0",
      "620f64cce0874cd1b2e75f730a9d9aa4",
      "46939215681b4ad385d32b30ddf637cf",
      "fb559d1270ac46e585e4f4dd56ad2f23",
      "13714a5f92564f11bad28e0610e9e4a5",
      "5b0d506ed9eb48588e2ed3c60f3ed3df",
      "39fbb364046d48c9b281a9b759fd9bb6",
      "7b77a3a08b97436dbc752761a8268669",
      "b3ea03674be24e78a9184818f9853203",
      "fc986fd308a24939a1d2965bb59c91b0",
      "ef543222eaba4308a71185ccc0027b3e"
     ]
    },
    "id": "9E2zR1Fvf_ZN",
    "executionInfo": {
     "status": "ok",
     "timestamp": 1747915339625,
     "user_tz": -420,
     "elapsed": 21420,
     "user": {
      "displayName": "Reicia Data Analyst",
      "userId": "07421877077909343410"
     }
    },
    "outputId": "22bdbdb9-2ae3-4178-ff33-695ff1628be7"
   },
   "execution_count": 19,
   "outputs": [
    {
     "output_type": "display_data",
     "data": {
      "text/plain": [
       "  0%|          | 0/676 [00:00<?, ?it/s]"
      ],
      "application/vnd.jupyter.widget-view+json": {
       "version_major": 2,
       "version_minor": 0,
       "model_id": "ae6587040a6e4de0bace36c52e1dbfd8"
      }
     },
     "metadata": {}
    },
    {
     "output_type": "display_data",
     "data": {
      "text/plain": [
       "  0%|          | 0/170 [00:00<?, ?it/s]"
      ],
      "application/vnd.jupyter.widget-view+json": {
       "version_major": 2,
       "version_minor": 0,
       "model_id": "376d43615b544da89b8fce2a959ee30d"
      }
     },
     "metadata": {}
    },
    {
     "output_type": "display_data",
     "data": {
      "text/plain": [
       "  0%|          | 0/94 [00:00<?, ?it/s]"
      ],
      "application/vnd.jupyter.widget-view+json": {
       "version_major": 2,
       "version_minor": 0,
       "model_id": "0004a2032a0944e5a0d36b54885910f0"
      }
     },
     "metadata": {}
    }
   ]
  },
  {
   "cell_type": "markdown",
   "source": [
    "### Load Dataset"
   ],
   "metadata": {
    "id": "tL73F1V5gGm3"
   }
  },
  {
   "cell_type": "code",
   "source": [
    "IMG_SIZE = (224, 224) # untuk menyesuaikan size gambar\n",
    "BATCH_SIZE = 32\n",
    "AUTOTUNE = tf.data.AUTOTUNE\n",
    "\n",
    "train_ds = tf.keras.utils.image_dataset_from_directory(\n",
    "    '/content/drive/MyDrive/parkinson/split_data/train',\n",
    "    labels='inferred',\n",
    "    label_mode='int',\n",
    "    image_size=IMG_SIZE,\n",
    "    batch_size=BATCH_SIZE,\n",
    "    seed=SEED\n",
    ")\n",
    "\n",
    "val_ds = tf.keras.utils.image_dataset_from_directory(\n",
    "    '/content/drive/MyDrive/parkinson/split_data/val',\n",
    "    labels='inferred',\n",
    "    label_mode='int',\n",
    "    image_size=IMG_SIZE,\n",
    "    batch_size=BATCH_SIZE,\n",
    "    seed=SEED\n",
    ")\n",
    "\n",
    "test_ds = tf.keras.utils.image_dataset_from_directory(\n",
    "    '/content/drive/MyDrive/parkinson/split_data/test',\n",
    "    labels='inferred',\n",
    "    label_mode='int',\n",
    "    image_size=IMG_SIZE,\n",
    "    batch_size=BATCH_SIZE,\n",
    "    seed=SEED\n",
    ")"
   ],
   "metadata": {
    "colab": {
     "base_uri": "https://localhost:8080/"
    },
    "id": "TMper0DGgPgb",
    "executionInfo": {
     "status": "ok",
     "timestamp": 1747915434855,
     "user_tz": -420,
     "elapsed": 492,
     "user": {
      "displayName": "Reicia Data Analyst",
      "userId": "07421877077909343410"
     }
    },
    "outputId": "0c959f94-0a8b-4535-e8d7-c0e7f0821c38"
   },
   "execution_count": 20,
   "outputs": [
    {
     "output_type": "stream",
     "name": "stdout",
     "text": [
      "Found 676 files belonging to 2 classes.\n",
      "Found 170 files belonging to 2 classes.\n",
      "Found 94 files belonging to 2 classes.\n"
     ]
    }
   ]
  },
  {
   "cell_type": "markdown",
   "source": [
    "## Augmentasi Data"
   ],
   "metadata": {
    "id": "25PU5YnsgbE9"
   }
  },
  {
   "cell_type": "markdown",
   "source": [
    "Pada tahapan ini dilakukan untuk mencegah overfitting & membantu minoritas kelas dengan variasi tambahan. tapi hanya diterapkan di train set, bukan val/test."
   ],
   "metadata": {
    "id": "xNpHdaoaggo7"
   }
  },
  {
   "cell_type": "code",
   "source": [
    "data_augmentation = tf.keras.Sequential([\n",
    "    tf.keras.layers.Rescaling(1./255),          # Normalisasi 0\u20131\n",
    "    tf.keras.layers.RandomFlip(\"horizontal\"),   # Flip kiri-kanan\n",
    "    tf.keras.layers.RandomRotation(0.15),       # Rotasi \u00b115%\n",
    "    tf.keras.layers.RandomZoom(0.1),            # Zoom \u00b110%\n",
    "    tf.keras.layers.RandomContrast(0.1),        # Kontras \u00b110%\n",
    "])\n",
    "\n",
    "train_ds = train_ds.map(lambda x, y: (data_augmentation(x, training=True), y))\n",
    "train_ds = train_ds.prefetch(buffer_size=AUTOTUNE)\n",
    "\n",
    "val_ds = val_ds.map(lambda x, y: (x / 255.0, y)).prefetch(buffer_size=AUTOTUNE)\n",
    "test_ds = test_ds.map(lambda x, y: (x / 255.0, y)).prefetch(buffer_size=AUTOTUNE)"
   ],
   "metadata": {
    "id": "oR7lEIIegawj",
    "executionInfo": {
     "status": "ok",
     "timestamp": 1747915440235,
     "user_tz": -420,
     "elapsed": 340,
     "user": {
      "displayName": "Reicia Data Analyst",
      "userId": "07421877077909343410"
     }
    }
   },
   "execution_count": 21,
   "outputs": []
  },
  {
   "cell_type": "code",
   "source": [
    "for images, labels in train_ds.take(1):\n",
    "    print(f\"Image batch shape: {images.shape}\")\n",
    "    print(f\"Label batch shape: {labels.shape}\")"
   ],
   "metadata": {
    "colab": {
     "base_uri": "https://localhost:8080/"
    },
    "id": "Es4SiMa7sSok",
    "executionInfo": {
     "status": "ok",
     "timestamp": 1747915444731,
     "user_tz": -420,
     "elapsed": 2707,
     "user": {
      "displayName": "Reicia Data Analyst",
      "userId": "07421877077909343410"
     }
    },
    "outputId": "21abc5b5-7c46-486f-c5f6-f6c3aa101514"
   },
   "execution_count": 22,
   "outputs": [
    {
     "output_type": "stream",
     "name": "stdout",
     "text": [
      "Image batch shape: (32, 224, 224, 3)\n",
      "Label batch shape: (32,)\n"
     ]
    }
   ]
  }
 ]
}